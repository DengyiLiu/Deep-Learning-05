{
  "nbformat": 4,
  "nbformat_minor": 0,
  "metadata": {
    "colab": {
      "provenance": []
    },
    "kernelspec": {
      "name": "python3",
      "display_name": "Python 3"
    },
    "language_info": {
      "name": "python"
    },
    "widgets": {
      "application/vnd.jupyter.widget-state+json": {
        "c66bdd1473f64e69a3dd4dfa8bdfa388": {
          "model_module": "@jupyter-widgets/controls",
          "model_name": "VBoxModel",
          "model_module_version": "1.5.0",
          "state": {
            "_dom_classes": [
              "widget-interact"
            ],
            "_model_module": "@jupyter-widgets/controls",
            "_model_module_version": "1.5.0",
            "_model_name": "VBoxModel",
            "_view_count": null,
            "_view_module": "@jupyter-widgets/controls",
            "_view_module_version": "1.5.0",
            "_view_name": "VBoxView",
            "box_style": "",
            "children": [
              "IPY_MODEL_ee878d55ad9b44708f85240dec671c16",
              "IPY_MODEL_9c8b66121fdd43d88b1826e7924de737",
              "IPY_MODEL_4ea8ba5aa2154601a26848685c75c777"
            ],
            "layout": "IPY_MODEL_8eef96aa9f544545ad7797ccd3a1e92a"
          }
        },
        "ee878d55ad9b44708f85240dec671c16": {
          "model_module": "@jupyter-widgets/controls",
          "model_name": "DropdownModel",
          "model_module_version": "1.5.0",
          "state": {
            "_dom_classes": [],
            "_model_module": "@jupyter-widgets/controls",
            "_model_module_version": "1.5.0",
            "_model_name": "DropdownModel",
            "_options_labels": [
              "Age",
              "SibSp",
              "Parch",
              "LogFare",
              "Pclass"
            ],
            "_view_count": null,
            "_view_module": "@jupyter-widgets/controls",
            "_view_module_version": "1.5.0",
            "_view_name": "DropdownView",
            "description": "nm",
            "description_tooltip": null,
            "disabled": false,
            "index": 0,
            "layout": "IPY_MODEL_04546f240a074409be67c1c5297a91ba",
            "style": "IPY_MODEL_fc54a58ca4794f0f9e8566e724145c41"
          }
        },
        "9c8b66121fdd43d88b1826e7924de737": {
          "model_module": "@jupyter-widgets/controls",
          "model_name": "FloatSliderModel",
          "model_module_version": "1.5.0",
          "state": {
            "_dom_classes": [],
            "_model_module": "@jupyter-widgets/controls",
            "_model_module_version": "1.5.0",
            "_model_name": "FloatSliderModel",
            "_view_count": null,
            "_view_module": "@jupyter-widgets/controls",
            "_view_module_version": "1.5.0",
            "_view_name": "FloatSliderView",
            "continuous_update": true,
            "description": "split",
            "description_tooltip": null,
            "disabled": false,
            "layout": "IPY_MODEL_988de00ad9fc47ea91f441745a8977b3",
            "max": 46.5,
            "min": -15.5,
            "orientation": "horizontal",
            "readout": true,
            "readout_format": ".2f",
            "step": 0.1,
            "style": "IPY_MODEL_a6e6c0f91d934fe6b1c9d4e366041c02",
            "value": 15.5
          }
        },
        "4ea8ba5aa2154601a26848685c75c777": {
          "model_module": "@jupyter-widgets/output",
          "model_name": "OutputModel",
          "model_module_version": "1.0.0",
          "state": {
            "_dom_classes": [],
            "_model_module": "@jupyter-widgets/output",
            "_model_module_version": "1.0.0",
            "_model_name": "OutputModel",
            "_view_count": null,
            "_view_module": "@jupyter-widgets/output",
            "_view_module_version": "1.0.0",
            "_view_name": "OutputView",
            "layout": "IPY_MODEL_5313e3a1d3484d3f9ad70fb6128bcda6",
            "msg_id": "",
            "outputs": [
              {
                "output_type": "display_data",
                "data": {
                  "text/plain": "Survived    0.481056\ndtype: float64"
                },
                "metadata": {}
              }
            ]
          }
        },
        "8eef96aa9f544545ad7797ccd3a1e92a": {
          "model_module": "@jupyter-widgets/base",
          "model_name": "LayoutModel",
          "model_module_version": "1.2.0",
          "state": {
            "_model_module": "@jupyter-widgets/base",
            "_model_module_version": "1.2.0",
            "_model_name": "LayoutModel",
            "_view_count": null,
            "_view_module": "@jupyter-widgets/base",
            "_view_module_version": "1.2.0",
            "_view_name": "LayoutView",
            "align_content": null,
            "align_items": null,
            "align_self": null,
            "border": null,
            "bottom": null,
            "display": null,
            "flex": null,
            "flex_flow": null,
            "grid_area": null,
            "grid_auto_columns": null,
            "grid_auto_flow": null,
            "grid_auto_rows": null,
            "grid_column": null,
            "grid_gap": null,
            "grid_row": null,
            "grid_template_areas": null,
            "grid_template_columns": null,
            "grid_template_rows": null,
            "height": null,
            "justify_content": null,
            "justify_items": null,
            "left": null,
            "margin": null,
            "max_height": null,
            "max_width": null,
            "min_height": null,
            "min_width": null,
            "object_fit": null,
            "object_position": null,
            "order": null,
            "overflow": null,
            "overflow_x": null,
            "overflow_y": null,
            "padding": null,
            "right": null,
            "top": null,
            "visibility": null,
            "width": null
          }
        },
        "04546f240a074409be67c1c5297a91ba": {
          "model_module": "@jupyter-widgets/base",
          "model_name": "LayoutModel",
          "model_module_version": "1.2.0",
          "state": {
            "_model_module": "@jupyter-widgets/base",
            "_model_module_version": "1.2.0",
            "_model_name": "LayoutModel",
            "_view_count": null,
            "_view_module": "@jupyter-widgets/base",
            "_view_module_version": "1.2.0",
            "_view_name": "LayoutView",
            "align_content": null,
            "align_items": null,
            "align_self": null,
            "border": null,
            "bottom": null,
            "display": null,
            "flex": null,
            "flex_flow": null,
            "grid_area": null,
            "grid_auto_columns": null,
            "grid_auto_flow": null,
            "grid_auto_rows": null,
            "grid_column": null,
            "grid_gap": null,
            "grid_row": null,
            "grid_template_areas": null,
            "grid_template_columns": null,
            "grid_template_rows": null,
            "height": null,
            "justify_content": null,
            "justify_items": null,
            "left": null,
            "margin": null,
            "max_height": null,
            "max_width": null,
            "min_height": null,
            "min_width": null,
            "object_fit": null,
            "object_position": null,
            "order": null,
            "overflow": null,
            "overflow_x": null,
            "overflow_y": null,
            "padding": null,
            "right": null,
            "top": null,
            "visibility": null,
            "width": null
          }
        },
        "fc54a58ca4794f0f9e8566e724145c41": {
          "model_module": "@jupyter-widgets/controls",
          "model_name": "DescriptionStyleModel",
          "model_module_version": "1.5.0",
          "state": {
            "_model_module": "@jupyter-widgets/controls",
            "_model_module_version": "1.5.0",
            "_model_name": "DescriptionStyleModel",
            "_view_count": null,
            "_view_module": "@jupyter-widgets/base",
            "_view_module_version": "1.2.0",
            "_view_name": "StyleView",
            "description_width": ""
          }
        },
        "988de00ad9fc47ea91f441745a8977b3": {
          "model_module": "@jupyter-widgets/base",
          "model_name": "LayoutModel",
          "model_module_version": "1.2.0",
          "state": {
            "_model_module": "@jupyter-widgets/base",
            "_model_module_version": "1.2.0",
            "_model_name": "LayoutModel",
            "_view_count": null,
            "_view_module": "@jupyter-widgets/base",
            "_view_module_version": "1.2.0",
            "_view_name": "LayoutView",
            "align_content": null,
            "align_items": null,
            "align_self": null,
            "border": null,
            "bottom": null,
            "display": null,
            "flex": null,
            "flex_flow": null,
            "grid_area": null,
            "grid_auto_columns": null,
            "grid_auto_flow": null,
            "grid_auto_rows": null,
            "grid_column": null,
            "grid_gap": null,
            "grid_row": null,
            "grid_template_areas": null,
            "grid_template_columns": null,
            "grid_template_rows": null,
            "height": null,
            "justify_content": null,
            "justify_items": null,
            "left": null,
            "margin": null,
            "max_height": null,
            "max_width": null,
            "min_height": null,
            "min_width": null,
            "object_fit": null,
            "object_position": null,
            "order": null,
            "overflow": null,
            "overflow_x": null,
            "overflow_y": null,
            "padding": null,
            "right": null,
            "top": null,
            "visibility": null,
            "width": null
          }
        },
        "a6e6c0f91d934fe6b1c9d4e366041c02": {
          "model_module": "@jupyter-widgets/controls",
          "model_name": "SliderStyleModel",
          "model_module_version": "1.5.0",
          "state": {
            "_model_module": "@jupyter-widgets/controls",
            "_model_module_version": "1.5.0",
            "_model_name": "SliderStyleModel",
            "_view_count": null,
            "_view_module": "@jupyter-widgets/base",
            "_view_module_version": "1.2.0",
            "_view_name": "StyleView",
            "description_width": "",
            "handle_color": null
          }
        },
        "5313e3a1d3484d3f9ad70fb6128bcda6": {
          "model_module": "@jupyter-widgets/base",
          "model_name": "LayoutModel",
          "model_module_version": "1.2.0",
          "state": {
            "_model_module": "@jupyter-widgets/base",
            "_model_module_version": "1.2.0",
            "_model_name": "LayoutModel",
            "_view_count": null,
            "_view_module": "@jupyter-widgets/base",
            "_view_module_version": "1.2.0",
            "_view_name": "LayoutView",
            "align_content": null,
            "align_items": null,
            "align_self": null,
            "border": null,
            "bottom": null,
            "display": null,
            "flex": null,
            "flex_flow": null,
            "grid_area": null,
            "grid_auto_columns": null,
            "grid_auto_flow": null,
            "grid_auto_rows": null,
            "grid_column": null,
            "grid_gap": null,
            "grid_row": null,
            "grid_template_areas": null,
            "grid_template_columns": null,
            "grid_template_rows": null,
            "height": null,
            "justify_content": null,
            "justify_items": null,
            "left": null,
            "margin": null,
            "max_height": null,
            "max_width": null,
            "min_height": null,
            "min_width": null,
            "object_fit": null,
            "object_position": null,
            "order": null,
            "overflow": null,
            "overflow_x": null,
            "overflow_y": null,
            "padding": null,
            "right": null,
            "top": null,
            "visibility": null,
            "width": null
          }
        },
        "32d2a9d7fb6548ae9688305a4101ddb2": {
          "model_module": "@jupyter-widgets/controls",
          "model_name": "VBoxModel",
          "model_module_version": "1.5.0",
          "state": {
            "_dom_classes": [
              "widget-interact"
            ],
            "_model_module": "@jupyter-widgets/controls",
            "_model_module_version": "1.5.0",
            "_model_name": "VBoxModel",
            "_view_count": null,
            "_view_module": "@jupyter-widgets/controls",
            "_view_module_version": "1.5.0",
            "_view_name": "VBoxView",
            "box_style": "",
            "children": [
              "IPY_MODEL_057a64c3e82042f4a5d5d76bf98e231d",
              "IPY_MODEL_c6c1e8573c424e61ba3c78b27b4dc1c0",
              "IPY_MODEL_8023877c37054b11aead04e3b5bbce0f"
            ],
            "layout": "IPY_MODEL_50d4df28c79d4f7088aa1458aa0efc8c"
          }
        },
        "057a64c3e82042f4a5d5d76bf98e231d": {
          "model_module": "@jupyter-widgets/controls",
          "model_name": "DropdownModel",
          "model_module_version": "1.5.0",
          "state": {
            "_dom_classes": [],
            "_model_module": "@jupyter-widgets/controls",
            "_model_module_version": "1.5.0",
            "_model_name": "DropdownModel",
            "_options_labels": [
              "Sex",
              "Embarked"
            ],
            "_view_count": null,
            "_view_module": "@jupyter-widgets/controls",
            "_view_module_version": "1.5.0",
            "_view_name": "DropdownView",
            "description": "nm",
            "description_tooltip": null,
            "disabled": false,
            "index": 0,
            "layout": "IPY_MODEL_43e06b9f279c4d3e8d20e2c692dcbd47",
            "style": "IPY_MODEL_73392b56a8bb4d9ab0cc6e9e770c09e6"
          }
        },
        "c6c1e8573c424e61ba3c78b27b4dc1c0": {
          "model_module": "@jupyter-widgets/controls",
          "model_name": "IntSliderModel",
          "model_module_version": "1.5.0",
          "state": {
            "_dom_classes": [],
            "_model_module": "@jupyter-widgets/controls",
            "_model_module_version": "1.5.0",
            "_model_name": "IntSliderModel",
            "_view_count": null,
            "_view_module": "@jupyter-widgets/controls",
            "_view_module_version": "1.5.0",
            "_view_name": "IntSliderView",
            "continuous_update": true,
            "description": "split",
            "description_tooltip": null,
            "disabled": false,
            "layout": "IPY_MODEL_13c5775508184fd7ad7c63ca3cc3d528",
            "max": 6,
            "min": -2,
            "orientation": "horizontal",
            "readout": true,
            "readout_format": "d",
            "step": 1,
            "style": "IPY_MODEL_7e5921392baa4ce89d3fbc6f4f50b6cb",
            "value": 2
          }
        },
        "8023877c37054b11aead04e3b5bbce0f": {
          "model_module": "@jupyter-widgets/output",
          "model_name": "OutputModel",
          "model_module_version": "1.0.0",
          "state": {
            "_dom_classes": [],
            "_model_module": "@jupyter-widgets/output",
            "_model_module_version": "1.0.0",
            "_model_name": "OutputModel",
            "_view_count": null,
            "_view_module": "@jupyter-widgets/output",
            "_view_module_version": "1.0.0",
            "_view_name": "OutputView",
            "layout": "IPY_MODEL_d961fd17643f4aa3a59362af6158ef03",
            "msg_id": "",
            "outputs": [
              {
                "output_type": "display_data",
                "data": {
                  "text/plain": "Survived    0.485437\ndtype: float64"
                },
                "metadata": {}
              }
            ]
          }
        },
        "50d4df28c79d4f7088aa1458aa0efc8c": {
          "model_module": "@jupyter-widgets/base",
          "model_name": "LayoutModel",
          "model_module_version": "1.2.0",
          "state": {
            "_model_module": "@jupyter-widgets/base",
            "_model_module_version": "1.2.0",
            "_model_name": "LayoutModel",
            "_view_count": null,
            "_view_module": "@jupyter-widgets/base",
            "_view_module_version": "1.2.0",
            "_view_name": "LayoutView",
            "align_content": null,
            "align_items": null,
            "align_self": null,
            "border": null,
            "bottom": null,
            "display": null,
            "flex": null,
            "flex_flow": null,
            "grid_area": null,
            "grid_auto_columns": null,
            "grid_auto_flow": null,
            "grid_auto_rows": null,
            "grid_column": null,
            "grid_gap": null,
            "grid_row": null,
            "grid_template_areas": null,
            "grid_template_columns": null,
            "grid_template_rows": null,
            "height": null,
            "justify_content": null,
            "justify_items": null,
            "left": null,
            "margin": null,
            "max_height": null,
            "max_width": null,
            "min_height": null,
            "min_width": null,
            "object_fit": null,
            "object_position": null,
            "order": null,
            "overflow": null,
            "overflow_x": null,
            "overflow_y": null,
            "padding": null,
            "right": null,
            "top": null,
            "visibility": null,
            "width": null
          }
        },
        "43e06b9f279c4d3e8d20e2c692dcbd47": {
          "model_module": "@jupyter-widgets/base",
          "model_name": "LayoutModel",
          "model_module_version": "1.2.0",
          "state": {
            "_model_module": "@jupyter-widgets/base",
            "_model_module_version": "1.2.0",
            "_model_name": "LayoutModel",
            "_view_count": null,
            "_view_module": "@jupyter-widgets/base",
            "_view_module_version": "1.2.0",
            "_view_name": "LayoutView",
            "align_content": null,
            "align_items": null,
            "align_self": null,
            "border": null,
            "bottom": null,
            "display": null,
            "flex": null,
            "flex_flow": null,
            "grid_area": null,
            "grid_auto_columns": null,
            "grid_auto_flow": null,
            "grid_auto_rows": null,
            "grid_column": null,
            "grid_gap": null,
            "grid_row": null,
            "grid_template_areas": null,
            "grid_template_columns": null,
            "grid_template_rows": null,
            "height": null,
            "justify_content": null,
            "justify_items": null,
            "left": null,
            "margin": null,
            "max_height": null,
            "max_width": null,
            "min_height": null,
            "min_width": null,
            "object_fit": null,
            "object_position": null,
            "order": null,
            "overflow": null,
            "overflow_x": null,
            "overflow_y": null,
            "padding": null,
            "right": null,
            "top": null,
            "visibility": null,
            "width": null
          }
        },
        "73392b56a8bb4d9ab0cc6e9e770c09e6": {
          "model_module": "@jupyter-widgets/controls",
          "model_name": "DescriptionStyleModel",
          "model_module_version": "1.5.0",
          "state": {
            "_model_module": "@jupyter-widgets/controls",
            "_model_module_version": "1.5.0",
            "_model_name": "DescriptionStyleModel",
            "_view_count": null,
            "_view_module": "@jupyter-widgets/base",
            "_view_module_version": "1.2.0",
            "_view_name": "StyleView",
            "description_width": ""
          }
        },
        "13c5775508184fd7ad7c63ca3cc3d528": {
          "model_module": "@jupyter-widgets/base",
          "model_name": "LayoutModel",
          "model_module_version": "1.2.0",
          "state": {
            "_model_module": "@jupyter-widgets/base",
            "_model_module_version": "1.2.0",
            "_model_name": "LayoutModel",
            "_view_count": null,
            "_view_module": "@jupyter-widgets/base",
            "_view_module_version": "1.2.0",
            "_view_name": "LayoutView",
            "align_content": null,
            "align_items": null,
            "align_self": null,
            "border": null,
            "bottom": null,
            "display": null,
            "flex": null,
            "flex_flow": null,
            "grid_area": null,
            "grid_auto_columns": null,
            "grid_auto_flow": null,
            "grid_auto_rows": null,
            "grid_column": null,
            "grid_gap": null,
            "grid_row": null,
            "grid_template_areas": null,
            "grid_template_columns": null,
            "grid_template_rows": null,
            "height": null,
            "justify_content": null,
            "justify_items": null,
            "left": null,
            "margin": null,
            "max_height": null,
            "max_width": null,
            "min_height": null,
            "min_width": null,
            "object_fit": null,
            "object_position": null,
            "order": null,
            "overflow": null,
            "overflow_x": null,
            "overflow_y": null,
            "padding": null,
            "right": null,
            "top": null,
            "visibility": null,
            "width": null
          }
        },
        "7e5921392baa4ce89d3fbc6f4f50b6cb": {
          "model_module": "@jupyter-widgets/controls",
          "model_name": "SliderStyleModel",
          "model_module_version": "1.5.0",
          "state": {
            "_model_module": "@jupyter-widgets/controls",
            "_model_module_version": "1.5.0",
            "_model_name": "SliderStyleModel",
            "_view_count": null,
            "_view_module": "@jupyter-widgets/base",
            "_view_module_version": "1.2.0",
            "_view_name": "StyleView",
            "description_width": "",
            "handle_color": null
          }
        },
        "d961fd17643f4aa3a59362af6158ef03": {
          "model_module": "@jupyter-widgets/base",
          "model_name": "LayoutModel",
          "model_module_version": "1.2.0",
          "state": {
            "_model_module": "@jupyter-widgets/base",
            "_model_module_version": "1.2.0",
            "_model_name": "LayoutModel",
            "_view_count": null,
            "_view_module": "@jupyter-widgets/base",
            "_view_module_version": "1.2.0",
            "_view_name": "LayoutView",
            "align_content": null,
            "align_items": null,
            "align_self": null,
            "border": null,
            "bottom": null,
            "display": null,
            "flex": null,
            "flex_flow": null,
            "grid_area": null,
            "grid_auto_columns": null,
            "grid_auto_flow": null,
            "grid_auto_rows": null,
            "grid_column": null,
            "grid_gap": null,
            "grid_row": null,
            "grid_template_areas": null,
            "grid_template_columns": null,
            "grid_template_rows": null,
            "height": null,
            "justify_content": null,
            "justify_items": null,
            "left": null,
            "margin": null,
            "max_height": null,
            "max_width": null,
            "min_height": null,
            "min_width": null,
            "object_fit": null,
            "object_position": null,
            "order": null,
            "overflow": null,
            "overflow_x": null,
            "overflow_y": null,
            "padding": null,
            "right": null,
            "top": null,
            "visibility": null,
            "width": null
          }
        }
      }
    }
  },
  "cells": [
    {
      "cell_type": "markdown",
      "source": [
        "# How random forests really work."
      ],
      "metadata": {
        "id": "mNbeOFZKaaJp"
      }
    },
    {
      "cell_type": "code",
      "source": [
        "from fastai.imports import *\n",
        "np.set_printoptions(linewidth = 110)"
      ],
      "metadata": {
        "id": "ENnaM60qablm"
      },
      "execution_count": 88,
      "outputs": []
    },
    {
      "cell_type": "code",
      "source": [
        "train = pd.read_csv('https://raw.githubusercontent.com/DengyiLiu/Deep-Learning-05/main/train.csv')\n",
        "df_test = pd.read_csv('https://raw.githubusercontent.com/DengyiLiu/Deep-Learning-05/main/test.csv')\n",
        "tst_df = df_test[['PassengerId','Pclass','Name','Sex','Age','SibSp','Parch','Ticket','Fare','Cabin','Embarked']].copy()\n",
        "modes = train.mode().iloc[0]"
      ],
      "metadata": {
        "id": "gEHV7P50absU"
      },
      "execution_count": 89,
      "outputs": []
    },
    {
      "cell_type": "code",
      "source": [
        "def proc_data(df):\n",
        "  df['Fare'] = df.Fare.fillna(0)\n",
        "  df.fillna(modes, inplace = True)\n",
        "  df['LogFare'] = np.log1p(df['Fare'])\n",
        "  df['Embarked'] = pd.Categorical(df.Embarked)\n",
        "  df['Sex'] = pd.Categorical(df.Sex)\n",
        "\n",
        "proc_data(train)\n",
        "proc_data(tst_df)"
      ],
      "metadata": {
        "id": "kf5bl2HqboKV"
      },
      "execution_count": 90,
      "outputs": []
    },
    {
      "cell_type": "code",
      "source": [
        "cats = ['Sex','Embarked']\n",
        "conts = ['Age','SibSp','Parch','LogFare','Pclass']\n",
        "dep = ['Survived']"
      ],
      "metadata": {
        "id": "2xZ7zIGtq6m-"
      },
      "execution_count": 91,
      "outputs": []
    },
    {
      "cell_type": "code",
      "source": [
        "train.Sex.head()"
      ],
      "metadata": {
        "colab": {
          "base_uri": "https://localhost:8080/"
        },
        "id": "AlqYLYACq6vW",
        "outputId": "1427fa23-fa86-4395-d842-c4714a635fc9"
      },
      "execution_count": 92,
      "outputs": [
        {
          "output_type": "execute_result",
          "data": {
            "text/plain": [
              "0      male\n",
              "1    female\n",
              "2    female\n",
              "3    female\n",
              "4      male\n",
              "Name: Sex, dtype: category\n",
              "Categories (2, object): ['female', 'male']"
            ]
          },
          "metadata": {},
          "execution_count": 92
        }
      ]
    },
    {
      "cell_type": "code",
      "source": [
        "train.Sex.cat.codes.head()"
      ],
      "metadata": {
        "id": "Qnf_osdKbpk8",
        "colab": {
          "base_uri": "https://localhost:8080/"
        },
        "outputId": "1a27f59e-8970-4e3e-dd9d-64a32aaea331"
      },
      "execution_count": 93,
      "outputs": [
        {
          "output_type": "execute_result",
          "data": {
            "text/plain": [
              "0    1\n",
              "1    0\n",
              "2    0\n",
              "3    0\n",
              "4    1\n",
              "dtype: int8"
            ]
          },
          "metadata": {},
          "execution_count": 93
        }
      ]
    },
    {
      "cell_type": "code",
      "source": [
        "train['Sex'].value_counts()"
      ],
      "metadata": {
        "colab": {
          "base_uri": "https://localhost:8080/"
        },
        "id": "NmF-Mvv85PXc",
        "outputId": "7e98cf94-dce9-49a9-88f6-cf0cf5d59dd9"
      },
      "execution_count": 94,
      "outputs": [
        {
          "output_type": "execute_result",
          "data": {
            "text/plain": [
              "male      577\n",
              "female    314\n",
              "Name: Sex, dtype: int64"
            ]
          },
          "metadata": {},
          "execution_count": 94
        }
      ]
    },
    {
      "cell_type": "markdown",
      "source": [
        "# Binary splits"
      ],
      "metadata": {
        "id": "tIGsEFRksgjT"
      }
    },
    {
      "cell_type": "code",
      "source": [
        "import seaborn as sns\n",
        "\n",
        "fig, axs = plt.subplots(1,2, figsize=(11,5))\n",
        "sns.barplot(data=train, y=\"Survived\", x=\"Sex\", ax=axs[0]).set(title='Survival rate')\n",
        "sns.countplot(data = train, x='Sex', ax=axs[1]).set(title='Histogram')"
      ],
      "metadata": {
        "colab": {
          "base_uri": "https://localhost:8080/",
          "height": 368
        },
        "id": "_-Q4sSOzsV23",
        "outputId": "6aa1eda5-c743-493c-ea51-d045f58397bd"
      },
      "execution_count": 95,
      "outputs": [
        {
          "output_type": "execute_result",
          "data": {
            "text/plain": [
              "[Text(0.5, 1.0, 'Histogram')]"
            ]
          },
          "metadata": {},
          "execution_count": 95
        },
        {
          "output_type": "display_data",
          "data": {
            "text/plain": [
              "<Figure size 792x360 with 2 Axes>"
            ],
            "image/png": "[encoded data removed]"
          },
          "metadata": {
            "needs_background": "light"
          }
        }
      ]
    },
    {
      "cell_type": "code",
      "source": [
        "from numpy import random\n",
        "from sklearn.model_selection import train_test_split\n",
        "\n",
        "random.seed(42)\n",
        "trn_df, val_df = train_test_split(train, test_size= 0.25)\n",
        "trn_df[cats] = trn_df[cats].apply(lambda x: x.cat.codes)\n",
        "val_df[cats] = val_df[cats].apply(lambda x: x.cat.codes)"
      ],
      "metadata": {
        "id": "dtRmA0WfsV87"
      },
      "execution_count": 96,
      "outputs": []
    },
    {
      "cell_type": "code",
      "source": [
        "def xs_y(df):\n",
        "    xs = df[cats+conts].copy()\n",
        "    return xs, df.get(dep)\n",
        "\n",
        "trn_xs, trn_y = xs_y(trn_df)\n",
        "val_xs, val_y = xs_y(val_df)"
      ],
      "metadata": {
        "id": "86t0DvLWsWCZ"
      },
      "execution_count": 97,
      "outputs": []
    },
    {
      "cell_type": "code",
      "source": [
        "preds = val_xs.Sex==0"
      ],
      "metadata": {
        "id": "nBlr3kMOsWUI"
      },
      "execution_count": 98,
      "outputs": []
    },
    {
      "cell_type": "code",
      "source": [
        "from sklearn.metrics import mean_absolute_error\n",
        "mean_absolute_error(preds, val_y)"
      ],
      "metadata": {
        "colab": {
          "base_uri": "https://localhost:8080/"
        },
        "id": "SyK3IjOv2zSo",
        "outputId": "70e0241c-09c7-4824-be17-9909067c0b77"
      },
      "execution_count": 99,
      "outputs": [
        {
          "output_type": "execute_result",
          "data": {
            "text/plain": [
              "0.21524663677130046"
            ]
          },
          "metadata": {},
          "execution_count": 99
        }
      ]
    },
    {
      "cell_type": "markdown",
      "source": [
        "we can see the error score, it shows that this model is not bad(we just think all femal are survive. If we predict all the male survived, then the score would be high."
      ],
      "metadata": {
        "id": "x7YbZMgf5A7X"
      }
    },
    {
      "cell_type": "code",
      "source": [
        "preds1 = val_xs.Sex == 1"
      ],
      "metadata": {
        "id": "KI8a1iRO4WzI"
      },
      "execution_count": 100,
      "outputs": []
    },
    {
      "cell_type": "code",
      "source": [
        "preds1.count()"
      ],
      "metadata": {
        "colab": {
          "base_uri": "https://localhost:8080/"
        },
        "id": "CdPHV7HV5rpL",
        "outputId": "05188c19-2b2e-4252-9ad1-a0c0564ed87c"
      },
      "execution_count": 101,
      "outputs": [
        {
          "output_type": "execute_result",
          "data": {
            "text/plain": [
              "223"
            ]
          },
          "metadata": {},
          "execution_count": 101
        }
      ]
    },
    {
      "cell_type": "code",
      "source": [
        "df_fare = trn_df[trn_df.LogFare>0]\n",
        "fig, axs = plt.subplots(1,2, figsize=(11,5))\n",
        "sns.boxenplot(data=df_fare, x='Survived', y='LogFare', ax=axs[0])\n",
        "sns.kdeplot(data=df_fare, x='LogFare', ax=axs[1])"
      ],
      "metadata": {
        "colab": {
          "base_uri": "https://localhost:8080/",
          "height": 352
        },
        "id": "vvzu4w4l6KL7",
        "outputId": "7bc42216-5a72-4025-a758-6426407a76af"
      },
      "execution_count": 102,
      "outputs": [
        {
          "output_type": "execute_result",
          "data": {
            "text/plain": [
              "<matplotlib.axes._subplots.AxesSubplot at 0x7f9a94b617c0>"
            ]
          },
          "metadata": {},
          "execution_count": 102
        },
        {
          "output_type": "display_data",
          "data": {
            "text/plain": [
              "<Figure size 792x360 with 2 Axes>"
            ],
            "image/png": "[encoded data removed]"
          },
          "metadata": {
            "needs_background": "light"
          }
        }
      ]
    },
    {
      "cell_type": "code",
      "source": [
        "preds = val_xs.LogFare>3"
      ],
      "metadata": {
        "id": "9N05zuuw6KU3"
      },
      "execution_count": 103,
      "outputs": []
    },
    {
      "cell_type": "code",
      "source": [
        "mean_absolute_error(val_y, preds)"
      ],
      "metadata": {
        "colab": {
          "base_uri": "https://localhost:8080/"
        },
        "id": "OBXBKGQ-6Kc3",
        "outputId": "449b5be2-a78a-4a92-f58a-f3570e57eb49"
      },
      "execution_count": 104,
      "outputs": [
        {
          "output_type": "execute_result",
          "data": {
            "text/plain": [
              "0.3094170403587444"
            ]
          },
          "metadata": {},
          "execution_count": 104
        }
      ]
    },
    {
      "cell_type": "markdown",
      "source": [
        "We want the distribution of the split become similiar, we can define a function to calculate the split score."
      ],
      "metadata": {
        "id": "MDOBlI-T8t69"
      }
    },
    {
      "cell_type": "code",
      "source": [
        "def _side_score(side, y):\n",
        "  tot = side.sum() #the number of \n",
        "  if tot<=1: return 0\n",
        "  return y[side].std()*tot"
      ],
      "metadata": {
        "id": "hkzDcxL87iYa"
      },
      "execution_count": 105,
      "outputs": []
    },
    {
      "cell_type": "code",
      "source": [
        "def score(col, y, split):\n",
        "  lhs = col<=split #left hand side\n",
        "  return (_side_score(lhs, y) + _side_score(~lhs,y))/len(y)"
      ],
      "metadata": {
        "id": "i-5odE9v7iex"
      },
      "execution_count": 106,
      "outputs": []
    },
    {
      "cell_type": "code",
      "source": [
        "score(trn_xs['Sex'], trn_y, 0.5)"
      ],
      "metadata": {
        "colab": {
          "base_uri": "https://localhost:8080/"
        },
        "id": "HyAw7UYg7ikr",
        "outputId": "c258b873-a2aa-4774-e0d4-044aeee69628"
      },
      "execution_count": 107,
      "outputs": [
        {
          "output_type": "execute_result",
          "data": {
            "text/plain": [
              "Survived    0.407875\n",
              "dtype: float64"
            ]
          },
          "metadata": {},
          "execution_count": 107
        }
      ]
    },
    {
      "cell_type": "code",
      "source": [
        "score(trn_xs['LogFare'], trn_y, 3)"
      ],
      "metadata": {
        "colab": {
          "base_uri": "https://localhost:8080/"
        },
        "id": "a4lgTu-29zdJ",
        "outputId": "7765e702-cefb-47f7-9432-56caba1f08db"
      },
      "execution_count": 108,
      "outputs": [
        {
          "output_type": "execute_result",
          "data": {
            "text/plain": [
              "Survived    0.472029\n",
              "dtype: float64"
            ]
          },
          "metadata": {},
          "execution_count": 108
        }
      ]
    },
    {
      "cell_type": "markdown",
      "source": [
        "The lower the score the better, so sex if better than logfare for split."
      ],
      "metadata": {
        "id": "um3fiflz9_wA"
      }
    },
    {
      "cell_type": "markdown",
      "source": [
        "Create interact to show the score."
      ],
      "metadata": {
        "id": "_n8Vlayw-Mka"
      }
    },
    {
      "cell_type": "code",
      "source": [
        "def iscore(nm, split):\n",
        "  col = trn_xs[nm]\n",
        "  return score(col, trn_y, split)\n",
        "\n",
        "from ipywidgets import interact\n",
        "interact(nm = conts, split=15.5)(iscore);"
      ],
      "metadata": {
        "colab": {
          "base_uri": "https://localhost:8080/",
          "height": 117,
          "referenced_widgets": [
            "c66bdd1473f64e69a3dd4dfa8bdfa388",
            "ee878d55ad9b44708f85240dec671c16",
            "9c8b66121fdd43d88b1826e7924de737",
            "4ea8ba5aa2154601a26848685c75c777",
            "8eef96aa9f544545ad7797ccd3a1e92a",
            "04546f240a074409be67c1c5297a91ba",
            "fc54a58ca4794f0f9e8566e724145c41",
            "988de00ad9fc47ea91f441745a8977b3",
            "a6e6c0f91d934fe6b1c9d4e366041c02",
            "5313e3a1d3484d3f9ad70fb6128bcda6"
          ]
        },
        "id": "SGZz7sg79_G_",
        "outputId": "4e0f2753-725a-4096-9e13-6e18c0840a82"
      },
      "execution_count": 109,
      "outputs": [
        {
          "output_type": "display_data",
          "data": {
            "text/plain": [
              "interactive(children=(Dropdown(description='nm', options=('Age', 'SibSp', 'Parch', 'LogFare', 'Pclass'), value…"
            ],
            "application/vnd.jupyter.widget-view+json": {
              "version_major": 2,
              "version_minor": 0,
              "model_id": "c66bdd1473f64e69a3dd4dfa8bdfa388"
            }
          },
          "metadata": {}
        }
      ]
    },
    {
      "cell_type": "code",
      "source": [
        "interact(nm = cats, split = 2)(iscore)"
      ],
      "metadata": {
        "colab": {
          "base_uri": "https://localhost:8080/",
          "height": 135,
          "referenced_widgets": [
            "32d2a9d7fb6548ae9688305a4101ddb2",
            "057a64c3e82042f4a5d5d76bf98e231d",
            "c6c1e8573c424e61ba3c78b27b4dc1c0",
            "8023877c37054b11aead04e3b5bbce0f",
            "50d4df28c79d4f7088aa1458aa0efc8c",
            "43e06b9f279c4d3e8d20e2c692dcbd47",
            "73392b56a8bb4d9ab0cc6e9e770c09e6",
            "13c5775508184fd7ad7c63ca3cc3d528",
            "7e5921392baa4ce89d3fbc6f4f50b6cb",
            "d961fd17643f4aa3a59362af6158ef03"
          ]
        },
        "id": "rCV3F68v_OEK",
        "outputId": "20d24e58-1e98-43df-aadb-de39c7f9ca89"
      },
      "execution_count": 110,
      "outputs": [
        {
          "output_type": "display_data",
          "data": {
            "text/plain": [
              "interactive(children=(Dropdown(description='nm', options=('Sex', 'Embarked'), value='Sex'), IntSlider(value=2,…"
            ],
            "application/vnd.jupyter.widget-view+json": {
              "version_major": 2,
              "version_minor": 0,
              "model_id": "32d2a9d7fb6548ae9688305a4101ddb2"
            }
          },
          "metadata": {}
        },
        {
          "output_type": "execute_result",
          "data": {
            "text/plain": [
              "<function __main__.iscore(nm, split)>"
            ]
          },
          "metadata": {},
          "execution_count": 110
        }
      ]
    },
    {
      "cell_type": "markdown",
      "source": [
        "How to find the score automatically."
      ],
      "metadata": {
        "id": "-PYCfto0_dV5"
      }
    },
    {
      "cell_type": "code",
      "source": [
        "nm = 'Age'\n",
        "col = trn_xs[nm]\n",
        "unq = col.unique()\n",
        "unq.sort()\n",
        "unq# the results of all the possible of binary split."
      ],
      "metadata": {
        "colab": {
          "base_uri": "https://localhost:8080/"
        },
        "id": "j0vmRBQZ_b--",
        "outputId": "851a0ef7-c3ce-4b0b-e055-eb556a0f231f"
      },
      "execution_count": 111,
      "outputs": [
        {
          "output_type": "execute_result",
          "data": {
            "text/plain": [
              "array([ 0.42,  0.67,  0.75,  0.83,  0.92,  1.  ,  2.  ,  3.  ,  4.  ,  5.  ,  6.  ,  7.  ,  8.  ,  9.  ,\n",
              "       10.  , 11.  , 12.  , 13.  , 14.  , 14.5 , 15.  , 16.  , 17.  , 18.  , 19.  , 20.  , 21.  , 22.  ,\n",
              "       23.  , 24.  , 24.5 , 25.  , 26.  , 27.  , 28.  , 28.5 , 29.  , 30.  , 31.  , 32.  , 32.5 , 33.  ,\n",
              "       34.  , 34.5 , 35.  , 36.  , 36.5 , 37.  , 38.  , 39.  , 40.  , 40.5 , 41.  , 42.  , 43.  , 44.  ,\n",
              "       45.  , 45.5 , 46.  , 47.  , 48.  , 49.  , 50.  , 51.  , 52.  , 53.  , 54.  , 55.  , 55.5 , 56.  ,\n",
              "       57.  , 58.  , 59.  , 60.  , 61.  , 62.  , 64.  , 65.  , 70.  , 70.5 , 74.  , 80.  ])"
            ]
          },
          "metadata": {},
          "execution_count": 111
        }
      ]
    },
    {
      "cell_type": "code",
      "source": [
        "scores = np.array([score(col, trn_y, o) for o in unq if not np.isnan(o)])\n",
        "unq[scores.argmin()]"
      ],
      "metadata": {
        "colab": {
          "base_uri": "https://localhost:8080/"
        },
        "id": "e5UEq3ttAoeB",
        "outputId": "9cceb318-8950-477c-9f90-7a2925d52058"
      },
      "execution_count": 112,
      "outputs": [
        {
          "output_type": "execute_result",
          "data": {
            "text/plain": [
              "6.0"
            ]
          },
          "metadata": {},
          "execution_count": 112
        }
      ]
    },
    {
      "cell_type": "code",
      "source": [
        "def min_col(df, nm):\n",
        "  col, y = df[nm],df[dep]\n",
        "  unq = col.dropna().unique()\n",
        "  scores = np.array([score(col, y, o) for o in unq if not np.isnan(o)])\n",
        "  idx = scores.argmin()\n",
        "  return unq[idx], scores[idx]\n",
        "\n",
        "min_col(trn_df, 'Age')"
      ],
      "metadata": {
        "colab": {
          "base_uri": "https://localhost:8080/"
        },
        "id": "laIZIK2-Dod3",
        "outputId": "c8c9646a-16af-45af-a080-155ec12337c4"
      },
      "execution_count": 113,
      "outputs": [
        {
          "output_type": "execute_result",
          "data": {
            "text/plain": [
              "(6.0, array([0.47831672]))"
            ]
          },
          "metadata": {},
          "execution_count": 113
        }
      ]
    },
    {
      "cell_type": "code",
      "source": [
        "cols = cats + conts\n",
        "{o:min_col(trn_df, o) for o in cols}"
      ],
      "metadata": {
        "colab": {
          "base_uri": "https://localhost:8080/"
        },
        "id": "TZ9JaTPaEtVz",
        "outputId": "6ab3b1e3-1f59-4949-ef24-dfe90f8c6405"
      },
      "execution_count": 114,
      "outputs": [
        {
          "output_type": "execute_result",
          "data": {
            "text/plain": [
              "{'Sex': (0, array([0.40787531])),\n",
              " 'Embarked': (0, array([0.47883343])),\n",
              " 'Age': (6.0, array([0.47831672])),\n",
              " 'SibSp': (4, array([0.47837403])),\n",
              " 'Parch': (0, array([0.48052965])),\n",
              " 'LogFare': (2.4390808375825834, array([0.46208239])),\n",
              " 'Pclass': (2, array([0.46048262]))}"
            ]
          },
          "metadata": {},
          "execution_count": 114
        }
      ]
    },
    {
      "cell_type": "markdown",
      "source": [
        "# Creating a decision tree\n",
        "How to improve the oneR classifier, which predicts survival based only on sex.  \n",
        "We can fine the single best split for females and the single best split for males. To do this, all we have to do is repeat the previous section's steps, once for male, and once for females.   \n",
        "First, remove sex from the list of possible splits and create the two groups:"
      ],
      "metadata": {
        "id": "N3ywVSp5KHhF"
      }
    },
    {
      "cell_type": "code",
      "source": [
        "cols.remove('Sex')\n",
        "ismale = trn_df.Sex==1"
      ],
      "metadata": {
        "id": "kdQTN7fjAomc"
      },
      "execution_count": 115,
      "outputs": []
    },
    {
      "cell_type": "code",
      "source": [
        "males, females = trn_df[ismale],trn_df[~ismale]"
      ],
      "metadata": {
        "id": "aQYxv9yRAouj"
      },
      "execution_count": 116,
      "outputs": []
    },
    {
      "cell_type": "markdown",
      "source": [
        " Now we can find the single best binary split for males:"
      ],
      "metadata": {
        "id": "YFXN9Nf2Nt-g"
      }
    },
    {
      "cell_type": "code",
      "source": [
        "{o:min_col(males, o) for o in cols}"
      ],
      "metadata": {
        "colab": {
          "base_uri": "https://localhost:8080/"
        },
        "id": "gRAT6yG_Ao11",
        "outputId": "ea447bf4-019c-4538-f361-1c4d4d17e56f"
      },
      "execution_count": 117,
      "outputs": [
        {
          "output_type": "execute_result",
          "data": {
            "text/plain": [
              "{'Embarked': (0, array([0.38755819])),\n",
              " 'Age': (6.0, array([0.37398284])),\n",
              " 'SibSp': (4, array([0.38758642])),\n",
              " 'Parch': (0, array([0.38747048])),\n",
              " 'LogFare': (2.803360380906535, array([0.38048562])),\n",
              " 'Pclass': (1, array([0.38155442]))}"
            ]
          },
          "metadata": {},
          "execution_count": 117
        }
      ]
    },
    {
      "cell_type": "markdown",
      "source": [
        "Females:"
      ],
      "metadata": {
        "id": "frTMH1uCOXLa"
      }
    },
    {
      "cell_type": "code",
      "source": [
        "{o:min_col(females, o) for o in cols}"
      ],
      "metadata": {
        "colab": {
          "base_uri": "https://localhost:8080/"
        },
        "id": "ujr2uE9FOQcz",
        "outputId": "c7d0de16-cb57-4c9b-fb66-8bc21cee27df"
      },
      "execution_count": 118,
      "outputs": [
        {
          "output_type": "execute_result",
          "data": {
            "text/plain": [
              "{'Embarked': (0, array([0.4295253])),\n",
              " 'Age': (50.0, array([0.42259277])),\n",
              " 'SibSp': (4, array([0.42319212])),\n",
              " 'Parch': (3, array([0.41933145])),\n",
              " 'LogFare': (4.256321678298823, array([0.41350598])),\n",
              " 'Pclass': (2, array([0.33353889]))}"
            ]
          },
          "metadata": {},
          "execution_count": 118
        }
      ]
    },
    {
      "cell_type": "markdown",
      "source": [
        "We can see that the best next binary split for males is Age<=6, and for females if Pclass<=2.\n",
        "By adding these rules, we have created a decision tree, in these model, first check whether sex is female or male, and depending on the result will then check either the above age or pclass rules, as appropriate. We could then repeat the process, creating new additional rules for each of the four groups we've now created.   \n",
        "Rather than writing that code manually, we can use DecisionTreeClassifier, from sklearn, which does exactly that for us:"
      ],
      "metadata": {
        "id": "j3RejKDjOvVD"
      }
    },
    {
      "cell_type": "code",
      "source": [
        "from sklearn.tree import DecisionTreeClassifier, export_graphviz\n",
        "\n",
        "m = DecisionTreeClassifier(max_leaf_nodes=4).fit(trn_xs, trn_y);"
      ],
      "metadata": {
        "id": "3FoGph0xOuxt"
      },
      "execution_count": 132,
      "outputs": []
    },
    {
      "cell_type": "markdown",
      "source": [
        "One handy feature or this class is that it provides a function for drawing a tree representing the rules:"
      ],
      "metadata": {
        "id": "hzwp-aKUQ7cm"
      }
    },
    {
      "cell_type": "code",
      "source": [
        "import graphviz\n",
        "\n",
        "def draw_tree(t, df, size=10, ratio=0.6, precision=2, **kwargs):\n",
        "    s=export_graphviz(t, out_file=None, feature_names=df.columns, filled=True, rounded=True,\n",
        "                      special_characters=True, rotate=False, precision=precision, **kwargs)\n",
        "    return graphviz.Source(re.sub('Tree{',f'Tree {{size={size}; ratio={ratio}',s))"
      ],
      "metadata": {
        "id": "-q7C-Tp9Q69E"
      },
      "execution_count": 133,
      "outputs": []
    },
    {
      "cell_type": "code",
      "source": [
        "draw_tree(m, trn_xs, size=10)"
      ],
      "metadata": {
        "colab": {
          "base_uri": "https://localhost:8080/",
          "height": 380
        },
        "id": "nGgBSM9uSdyt",
        "outputId": "1dfc31ac-df3c-4df7-92a2-96f12a550aa7"
      },
      "execution_count": 134,
      "outputs": [
        {
          "output_type": "execute_result",
          "data": {
            "text/plain": [
              "<graphviz.files.Source at 0x7f9a5c3da610>"
            ],
            "image/svg+xml": "<?xml version=\"1.0\" encoding=\"UTF-8\" standalone=\"no\"?>\n<!DOCTYPE svg PUBLIC \"-//W3C//DTD SVG 1.1//EN\"\n \"http://www.w3.org/Graphics/SVG/1.1/DTD/svg11.dtd\">\n<!-- Generated by graphviz version 2.43.0 (0)\n -->\n<!-- Title: Tree Pages: 1 -->\n<svg width=\"507pt\" height=\"269pt\"\n viewBox=\"0.00 0.00 506.50 269.00\" xmlns=\"http://www.w3.org/2000/svg\" xmlns:xlink=\"http://www.w3.org/1999/xlink\">\n<g id=\"graph0\" class=\"graph\" transform=\"scale(1 1) rotate(0) translate(4 265)\">\n<title>Tree</title>\n<polygon fill=\"white\" stroke=\"transparent\" points=\"-4,4 -4,-265 502.5,-265 502.5,4 -4,4\"/>\n<!-- 0 -->\n<g id=\"node1\" class=\"node\">\n<title>0</title>\n<path fill=\"#f5ceb2\" stroke=\"black\" d=\"M297.5,-261C297.5,-261 196.5,-261 196.5,-261 190.5,-261 184.5,-255 184.5,-249 184.5,-249 184.5,-205 184.5,-205 184.5,-199 190.5,-193 196.5,-193 196.5,-193 297.5,-193 297.5,-193 303.5,-193 309.5,-199 309.5,-205 309.5,-205 309.5,-249 309.5,-249 309.5,-255 303.5,-261 297.5,-261\"/>\n<text text-anchor=\"start\" x=\"218\" y=\"-245.8\" font-family=\"Helvetica,sans-Serif\" font-size=\"14.00\">Sex ≤ 0.5</text>\n<text text-anchor=\"start\" x=\"215\" y=\"-230.8\" font-family=\"Helvetica,sans-Serif\" font-size=\"14.00\">gini = 0.47</text>\n<text text-anchor=\"start\" x=\"202\" y=\"-215.8\" font-family=\"Helvetica,sans-Serif\" font-size=\"14.00\">samples = 668</text>\n<text text-anchor=\"start\" x=\"192.5\" y=\"-200.8\" font-family=\"Helvetica,sans-Serif\" font-size=\"14.00\">value = [415, 253]</text>\n</g>\n<!-- 1 -->\n<g id=\"node2\" class=\"node\">\n<title>1</title>\n<path fill=\"#7ebfee\" stroke=\"black\" d=\"M226.5,-157C226.5,-157 133.5,-157 133.5,-157 127.5,-157 121.5,-151 121.5,-145 121.5,-145 121.5,-101 121.5,-101 121.5,-95 127.5,-89 133.5,-89 133.5,-89 226.5,-89 226.5,-89 232.5,-89 238.5,-95 238.5,-101 238.5,-101 238.5,-145 238.5,-145 238.5,-151 232.5,-157 226.5,-157\"/>\n<text text-anchor=\"start\" x=\"143\" y=\"-141.8\" font-family=\"Helvetica,sans-Serif\" font-size=\"14.00\">Pclass ≤ 2.5</text>\n<text text-anchor=\"start\" x=\"148\" y=\"-126.8\" font-family=\"Helvetica,sans-Serif\" font-size=\"14.00\">gini = 0.38</text>\n<text text-anchor=\"start\" x=\"135\" y=\"-111.8\" font-family=\"Helvetica,sans-Serif\" font-size=\"14.00\">samples = 229</text>\n<text text-anchor=\"start\" x=\"129.5\" y=\"-96.8\" font-family=\"Helvetica,sans-Serif\" font-size=\"14.00\">value = [59, 170]</text>\n</g>\n<!-- 0&#45;&gt;1 -->\n<g id=\"edge1\" class=\"edge\">\n<title>0&#45;&gt;1</title>\n<path fill=\"none\" stroke=\"black\" d=\"M225.25,-192.88C219.57,-184.24 213.38,-174.82 207.45,-165.79\"/>\n<polygon fill=\"black\" stroke=\"black\" points=\"210.29,-163.74 201.87,-157.3 204.44,-167.58 210.29,-163.74\"/>\n<text text-anchor=\"middle\" x=\"196.8\" y=\"-178.08\" font-family=\"Helvetica,sans-Serif\" font-size=\"14.00\">True</text>\n</g>\n<!-- 2 -->\n<g id=\"node5\" class=\"node\">\n<title>2</title>\n<path fill=\"#eb9e67\" stroke=\"black\" d=\"M361.5,-157C361.5,-157 268.5,-157 268.5,-157 262.5,-157 256.5,-151 256.5,-145 256.5,-145 256.5,-101 256.5,-101 256.5,-95 262.5,-89 268.5,-89 268.5,-89 361.5,-89 361.5,-89 367.5,-89 373.5,-95 373.5,-101 373.5,-101 373.5,-145 373.5,-145 373.5,-151 367.5,-157 361.5,-157\"/>\n<text text-anchor=\"start\" x=\"286\" y=\"-141.8\" font-family=\"Helvetica,sans-Serif\" font-size=\"14.00\">Age ≤ 6.5</text>\n<text text-anchor=\"start\" x=\"283\" y=\"-126.8\" font-family=\"Helvetica,sans-Serif\" font-size=\"14.00\">gini = 0.31</text>\n<text text-anchor=\"start\" x=\"270\" y=\"-111.8\" font-family=\"Helvetica,sans-Serif\" font-size=\"14.00\">samples = 439</text>\n<text text-anchor=\"start\" x=\"264.5\" y=\"-96.8\" font-family=\"Helvetica,sans-Serif\" font-size=\"14.00\">value = [356, 83]</text>\n</g>\n<!-- 0&#45;&gt;2 -->\n<g id=\"edge4\" class=\"edge\">\n<title>0&#45;&gt;2</title>\n<path fill=\"none\" stroke=\"black\" d=\"M269.08,-192.88C274.84,-184.24 281.12,-174.82 287.14,-165.79\"/>\n<polygon fill=\"black\" stroke=\"black\" points=\"290.17,-167.56 292.8,-157.3 284.34,-163.68 290.17,-167.56\"/>\n<text text-anchor=\"middle\" x=\"297.7\" y=\"-178.11\" font-family=\"Helvetica,sans-Serif\" font-size=\"14.00\">False</text>\n</g>\n<!-- 3 -->\n<g id=\"node3\" class=\"node\">\n<title>3</title>\n<path fill=\"#40a0e6\" stroke=\"black\" d=\"M98,-53C98,-53 12,-53 12,-53 6,-53 0,-47 0,-41 0,-41 0,-12 0,-12 0,-6 6,0 12,0 12,0 98,0 98,0 104,0 110,-6 110,-12 110,-12 110,-41 110,-41 110,-47 104,-53 98,-53\"/>\n<text text-anchor=\"start\" x=\"23\" y=\"-37.8\" font-family=\"Helvetica,sans-Serif\" font-size=\"14.00\">gini = 0.06</text>\n<text text-anchor=\"start\" x=\"10\" y=\"-22.8\" font-family=\"Helvetica,sans-Serif\" font-size=\"14.00\">samples = 120</text>\n<text text-anchor=\"start\" x=\"8\" y=\"-7.8\" font-family=\"Helvetica,sans-Serif\" font-size=\"14.00\">value = [4, 116]</text>\n</g>\n<!-- 1&#45;&gt;3 -->\n<g id=\"edge2\" class=\"edge\">\n<title>1&#45;&gt;3</title>\n<path fill=\"none\" stroke=\"black\" d=\"M136.28,-88.95C123.58,-79.34 109.73,-68.87 97.12,-59.34\"/>\n<polygon fill=\"black\" stroke=\"black\" points=\"99.13,-56.48 89.04,-53.24 94.91,-62.06 99.13,-56.48\"/>\n</g>\n<!-- 4 -->\n<g id=\"node4\" class=\"node\">\n<title>4</title>\n<path fill=\"#fffdfb\" stroke=\"black\" d=\"M226,-53C226,-53 140,-53 140,-53 134,-53 128,-47 128,-41 128,-41 128,-12 128,-12 128,-6 134,0 140,0 140,0 226,0 226,0 232,0 238,-6 238,-12 238,-12 238,-41 238,-41 238,-47 232,-53 226,-53\"/>\n<text text-anchor=\"start\" x=\"155\" y=\"-37.8\" font-family=\"Helvetica,sans-Serif\" font-size=\"14.00\">gini = 0.5</text>\n<text text-anchor=\"start\" x=\"138\" y=\"-22.8\" font-family=\"Helvetica,sans-Serif\" font-size=\"14.00\">samples = 109</text>\n<text text-anchor=\"start\" x=\"136\" y=\"-7.8\" font-family=\"Helvetica,sans-Serif\" font-size=\"14.00\">value = [55, 54]</text>\n</g>\n<!-- 1&#45;&gt;4 -->\n<g id=\"edge3\" class=\"edge\">\n<title>1&#45;&gt;4</title>\n<path fill=\"none\" stroke=\"black\" d=\"M181.05,-88.95C181.31,-80.72 181.59,-71.85 181.86,-63.48\"/>\n<polygon fill=\"black\" stroke=\"black\" points=\"185.36,-63.34 182.18,-53.24 178.37,-63.12 185.36,-63.34\"/>\n</g>\n<!-- 5 -->\n<g id=\"node6\" class=\"node\">\n<title>5</title>\n<path fill=\"#88c4ef\" stroke=\"black\" d=\"M351,-53C351,-53 273,-53 273,-53 267,-53 261,-47 261,-41 261,-41 261,-12 261,-12 261,-6 267,0 273,0 273,0 351,0 351,0 357,0 363,-6 363,-12 363,-12 363,-41 363,-41 363,-47 357,-53 351,-53\"/>\n<text text-anchor=\"start\" x=\"280\" y=\"-37.8\" font-family=\"Helvetica,sans-Serif\" font-size=\"14.00\">gini = 0.41</text>\n<text text-anchor=\"start\" x=\"271\" y=\"-22.8\" font-family=\"Helvetica,sans-Serif\" font-size=\"14.00\">samples = 21</text>\n<text text-anchor=\"start\" x=\"269\" y=\"-7.8\" font-family=\"Helvetica,sans-Serif\" font-size=\"14.00\">value = [6, 15]</text>\n</g>\n<!-- 2&#45;&gt;5 -->\n<g id=\"edge5\" class=\"edge\">\n<title>2&#45;&gt;5</title>\n<path fill=\"none\" stroke=\"black\" d=\"M313.95,-88.95C313.69,-80.72 313.41,-71.85 313.14,-63.48\"/>\n<polygon fill=\"black\" stroke=\"black\" points=\"316.63,-63.12 312.82,-53.24 309.64,-63.34 316.63,-63.12\"/>\n</g>\n<!-- 6 -->\n<g id=\"node7\" class=\"node\">\n<title>6</title>\n<path fill=\"#ea995f\" stroke=\"black\" d=\"M486.5,-53C486.5,-53 393.5,-53 393.5,-53 387.5,-53 381.5,-47 381.5,-41 381.5,-41 381.5,-12 381.5,-12 381.5,-6 387.5,0 393.5,0 393.5,0 486.5,0 486.5,0 492.5,0 498.5,-6 498.5,-12 498.5,-12 498.5,-41 498.5,-41 498.5,-47 492.5,-53 486.5,-53\"/>\n<text text-anchor=\"start\" x=\"408\" y=\"-37.8\" font-family=\"Helvetica,sans-Serif\" font-size=\"14.00\">gini = 0.27</text>\n<text text-anchor=\"start\" x=\"395\" y=\"-22.8\" font-family=\"Helvetica,sans-Serif\" font-size=\"14.00\">samples = 418</text>\n<text text-anchor=\"start\" x=\"389.5\" y=\"-7.8\" font-family=\"Helvetica,sans-Serif\" font-size=\"14.00\">value = [350, 68]</text>\n</g>\n<!-- 2&#45;&gt;6 -->\n<g id=\"edge6\" class=\"edge\">\n<title>2&#45;&gt;6</title>\n<path fill=\"none\" stroke=\"black\" d=\"M358.72,-88.95C371.42,-79.34 385.27,-68.87 397.88,-59.34\"/>\n<polygon fill=\"black\" stroke=\"black\" points=\"400.09,-62.06 405.96,-53.24 395.87,-56.48 400.09,-62.06\"/>\n</g>\n</g>\n</svg>\n"
          },
          "metadata": {},
          "execution_count": 134
        }
      ]
    },
    {
      "cell_type": "code",
      "source": [
        "#gini is also kind of score here is how we can calculate gini.\n",
        "def gini(cond):\n",
        "  act = df.loc[cond, dep]\n",
        "  return 1 - act.mean()**2 - (1-act).mean()**2"
      ],
      "metadata": {
        "id": "8o59Hv_HTboc"
      },
      "execution_count": 135,
      "outputs": []
    },
    {
      "cell_type": "code",
      "source": [
        "mean_absolute_error(val_y, m.predict(val_xs))"
      ],
      "metadata": {
        "colab": {
          "base_uri": "https://localhost:8080/"
        },
        "id": "oneGsN1OTv21",
        "outputId": "9a421eab-a9ca-4a91-a2f0-cd0211961fee"
      },
      "execution_count": 136,
      "outputs": [
        {
          "output_type": "execute_result",
          "data": {
            "text/plain": [
              "0.2242152466367713"
            ]
          },
          "metadata": {},
          "execution_count": 136
        }
      ]
    },
    {
      "cell_type": "code",
      "source": [
        "m = DecisionTreeClassifier(min_samples_leaf=50)\n",
        "m.fit(trn_xs, trn_y)\n",
        "draw_tree(m, trn_xs, size=25)"
      ],
      "metadata": {
        "colab": {
          "base_uri": "https://localhost:8080/",
          "height": 934
        },
        "id": "wXDx9HxATwDo",
        "outputId": "370b428b-25c6-44fc-cd9d-d74d3a451269"
      },
      "execution_count": 138,
      "outputs": [
        {
          "output_type": "execute_result",
          "data": {
            "text/plain": [
              "<graphviz.files.Source at 0x7f9a5ce3b9a0>"
            ],
            "image/svg+xml": "<?xml version=\"1.0\" encoding=\"UTF-8\" standalone=\"no\"?>\n<!DOCTYPE svg PUBLIC \"-//W3C//DTD SVG 1.1//EN\"\n \"http://www.w3.org/Graphics/SVG/1.1/DTD/svg11.dtd\">\n<!-- Generated by graphviz version 2.43.0 (0)\n -->\n<!-- Title: Tree Pages: 1 -->\n<svg width=\"1006pt\" height=\"685pt\"\n viewBox=\"0.00 0.00 1006.00 685.00\" xmlns=\"http://www.w3.org/2000/svg\" xmlns:xlink=\"http://www.w3.org/1999/xlink\">\n<g id=\"graph0\" class=\"graph\" transform=\"scale(1 1) rotate(0) translate(4 681)\">\n<title>Tree</title>\n<polygon fill=\"white\" stroke=\"transparent\" points=\"-4,4 -4,-681 1002,-681 1002,4 -4,4\"/>\n<!-- 0 -->\n<g id=\"node1\" class=\"node\">\n<title>0</title>\n<path fill=\"#f5ceb2\" stroke=\"black\" d=\"M533.5,-677C533.5,-677 432.5,-677 432.5,-677 426.5,-677 420.5,-671 420.5,-665 420.5,-665 420.5,-621 420.5,-621 420.5,-615 426.5,-609 432.5,-609 432.5,-609 533.5,-609 533.5,-609 539.5,-609 545.5,-615 545.5,-621 545.5,-621 545.5,-665 545.5,-665 545.5,-671 539.5,-677 533.5,-677\"/>\n<text text-anchor=\"start\" x=\"454\" y=\"-661.8\" font-family=\"Helvetica,sans-Serif\" font-size=\"14.00\">Sex ≤ 0.5</text>\n<text text-anchor=\"start\" x=\"451\" y=\"-646.8\" font-family=\"Helvetica,sans-Serif\" font-size=\"14.00\">gini = 0.47</text>\n<text text-anchor=\"start\" x=\"438\" y=\"-631.8\" font-family=\"Helvetica,sans-Serif\" font-size=\"14.00\">samples = 668</text>\n<text text-anchor=\"start\" x=\"428.5\" y=\"-616.8\" font-family=\"Helvetica,sans-Serif\" font-size=\"14.00\">value = [415, 253]</text>\n</g>\n<!-- 1 -->\n<g id=\"node2\" class=\"node\">\n<title>1</title>\n<path fill=\"#7ebfee\" stroke=\"black\" d=\"M403.5,-573C403.5,-573 310.5,-573 310.5,-573 304.5,-573 298.5,-567 298.5,-561 298.5,-561 298.5,-517 298.5,-517 298.5,-511 304.5,-505 310.5,-505 310.5,-505 403.5,-505 403.5,-505 409.5,-505 415.5,-511 415.5,-517 415.5,-517 415.5,-561 415.5,-561 415.5,-567 409.5,-573 403.5,-573\"/>\n<text text-anchor=\"start\" x=\"320\" y=\"-557.8\" font-family=\"Helvetica,sans-Serif\" font-size=\"14.00\">Pclass ≤ 2.5</text>\n<text text-anchor=\"start\" x=\"325\" y=\"-542.8\" font-family=\"Helvetica,sans-Serif\" font-size=\"14.00\">gini = 0.38</text>\n<text text-anchor=\"start\" x=\"312\" y=\"-527.8\" font-family=\"Helvetica,sans-Serif\" font-size=\"14.00\">samples = 229</text>\n<text text-anchor=\"start\" x=\"306.5\" y=\"-512.8\" font-family=\"Helvetica,sans-Serif\" font-size=\"14.00\">value = [59, 170]</text>\n</g>\n<!-- 0&#45;&gt;1 -->\n<g id=\"edge1\" class=\"edge\">\n<title>0&#45;&gt;1</title>\n<path fill=\"none\" stroke=\"black\" d=\"M442.09,-608.88C430.65,-599.62 418.09,-589.45 406.22,-579.85\"/>\n<polygon fill=\"black\" stroke=\"black\" points=\"408.11,-576.87 398.13,-573.3 403.7,-582.31 408.11,-576.87\"/>\n<text text-anchor=\"middle\" x=\"400.75\" y=\"-594.46\" font-family=\"Helvetica,sans-Serif\" font-size=\"14.00\">True</text>\n</g>\n<!-- 8 -->\n<g id=\"node9\" class=\"node\">\n<title>8</title>\n<path fill=\"#eb9e67\" stroke=\"black\" d=\"M663.5,-573C663.5,-573 570.5,-573 570.5,-573 564.5,-573 558.5,-567 558.5,-561 558.5,-561 558.5,-517 558.5,-517 558.5,-511 564.5,-505 570.5,-505 570.5,-505 663.5,-505 663.5,-505 669.5,-505 675.5,-511 675.5,-517 675.5,-517 675.5,-561 675.5,-561 675.5,-567 669.5,-573 663.5,-573\"/>\n<text text-anchor=\"start\" x=\"571\" y=\"-557.8\" font-family=\"Helvetica,sans-Serif\" font-size=\"14.00\">LogFare ≤ 3.31</text>\n<text text-anchor=\"start\" x=\"585\" y=\"-542.8\" font-family=\"Helvetica,sans-Serif\" font-size=\"14.00\">gini = 0.31</text>\n<text text-anchor=\"start\" x=\"572\" y=\"-527.8\" font-family=\"Helvetica,sans-Serif\" font-size=\"14.00\">samples = 439</text>\n<text text-anchor=\"start\" x=\"566.5\" y=\"-512.8\" font-family=\"Helvetica,sans-Serif\" font-size=\"14.00\">value = [356, 83]</text>\n</g>\n<!-- 0&#45;&gt;8 -->\n<g id=\"edge8\" class=\"edge\">\n<title>0&#45;&gt;8</title>\n<path fill=\"none\" stroke=\"black\" d=\"M526.51,-608.88C538.79,-599.53 552.29,-589.26 565.02,-579.57\"/>\n<polygon fill=\"black\" stroke=\"black\" points=\"567.42,-582.14 573.25,-573.3 563.18,-576.57 567.42,-582.14\"/>\n<text text-anchor=\"middle\" x=\"569.89\" y=\"-594.37\" font-family=\"Helvetica,sans-Serif\" font-size=\"14.00\">False</text>\n</g>\n<!-- 2 -->\n<g id=\"node3\" class=\"node\">\n<title>2</title>\n<path fill=\"#40a0e6\" stroke=\"black\" d=\"M214,-469C214,-469 128,-469 128,-469 122,-469 116,-463 116,-457 116,-457 116,-413 116,-413 116,-407 122,-401 128,-401 128,-401 214,-401 214,-401 220,-401 226,-407 226,-413 226,-413 226,-457 226,-457 226,-463 220,-469 214,-469\"/>\n<text text-anchor=\"start\" x=\"136\" y=\"-453.8\" font-family=\"Helvetica,sans-Serif\" font-size=\"14.00\">SibSp ≤ 0.5</text>\n<text text-anchor=\"start\" x=\"139\" y=\"-438.8\" font-family=\"Helvetica,sans-Serif\" font-size=\"14.00\">gini = 0.06</text>\n<text text-anchor=\"start\" x=\"126\" y=\"-423.8\" font-family=\"Helvetica,sans-Serif\" font-size=\"14.00\">samples = 120</text>\n<text text-anchor=\"start\" x=\"124\" y=\"-408.8\" font-family=\"Helvetica,sans-Serif\" font-size=\"14.00\">value = [4, 116]</text>\n</g>\n<!-- 1&#45;&gt;2 -->\n<g id=\"edge2\" class=\"edge\">\n<title>1&#45;&gt;2</title>\n<path fill=\"none\" stroke=\"black\" d=\"M298.4,-505.87C278.28,-494.83 255.64,-482.42 235.1,-471.15\"/>\n<polygon fill=\"black\" stroke=\"black\" points=\"236.58,-467.97 226.13,-466.23 233.22,-474.11 236.58,-467.97\"/>\n</g>\n<!-- 5 -->\n<g id=\"node6\" class=\"node\">\n<title>5</title>\n<path fill=\"#fffdfb\" stroke=\"black\" d=\"M400,-469C400,-469 314,-469 314,-469 308,-469 302,-463 302,-457 302,-457 302,-413 302,-413 302,-407 308,-401 314,-401 314,-401 400,-401 400,-401 406,-401 412,-407 412,-413 412,-413 412,-457 412,-457 412,-463 406,-469 400,-469\"/>\n<text text-anchor=\"start\" x=\"314.5\" y=\"-453.8\" font-family=\"Helvetica,sans-Serif\" font-size=\"14.00\">LogFare ≤ 2.7</text>\n<text text-anchor=\"start\" x=\"329\" y=\"-438.8\" font-family=\"Helvetica,sans-Serif\" font-size=\"14.00\">gini = 0.5</text>\n<text text-anchor=\"start\" x=\"312\" y=\"-423.8\" font-family=\"Helvetica,sans-Serif\" font-size=\"14.00\">samples = 109</text>\n<text text-anchor=\"start\" x=\"310\" y=\"-408.8\" font-family=\"Helvetica,sans-Serif\" font-size=\"14.00\">value = [55, 54]</text>\n</g>\n<!-- 1&#45;&gt;5 -->\n<g id=\"edge5\" class=\"edge\">\n<title>1&#45;&gt;5</title>\n<path fill=\"none\" stroke=\"black\" d=\"M357,-504.88C357,-496.78 357,-487.98 357,-479.47\"/>\n<polygon fill=\"black\" stroke=\"black\" points=\"360.5,-479.3 357,-469.3 353.5,-479.3 360.5,-479.3\"/>\n</g>\n<!-- 3 -->\n<g id=\"node4\" class=\"node\">\n<title>3</title>\n<path fill=\"#3c9ee5\" stroke=\"black\" d=\"M90,-357.5C90,-357.5 12,-357.5 12,-357.5 6,-357.5 0,-351.5 0,-345.5 0,-345.5 0,-316.5 0,-316.5 0,-310.5 6,-304.5 12,-304.5 12,-304.5 90,-304.5 90,-304.5 96,-304.5 102,-310.5 102,-316.5 102,-316.5 102,-345.5 102,-345.5 102,-351.5 96,-357.5 90,-357.5\"/>\n<text text-anchor=\"start\" x=\"19\" y=\"-342.3\" font-family=\"Helvetica,sans-Serif\" font-size=\"14.00\">gini = 0.03</text>\n<text text-anchor=\"start\" x=\"10\" y=\"-327.3\" font-family=\"Helvetica,sans-Serif\" font-size=\"14.00\">samples = 67</text>\n<text text-anchor=\"start\" x=\"8\" y=\"-312.3\" font-family=\"Helvetica,sans-Serif\" font-size=\"14.00\">value = [1, 66]</text>\n</g>\n<!-- 2&#45;&gt;3 -->\n<g id=\"edge3\" class=\"edge\">\n<title>2&#45;&gt;3</title>\n<path fill=\"none\" stroke=\"black\" d=\"M132.04,-400.88C118.2,-389.12 102.64,-375.89 88.89,-364.2\"/>\n<polygon fill=\"black\" stroke=\"black\" points=\"90.91,-361.33 81.02,-357.52 86.38,-366.66 90.91,-361.33\"/>\n</g>\n<!-- 4 -->\n<g id=\"node5\" class=\"node\">\n<title>4</title>\n<path fill=\"#45a3e7\" stroke=\"black\" d=\"M210,-357.5C210,-357.5 132,-357.5 132,-357.5 126,-357.5 120,-351.5 120,-345.5 120,-345.5 120,-316.5 120,-316.5 120,-310.5 126,-304.5 132,-304.5 132,-304.5 210,-304.5 210,-304.5 216,-304.5 222,-310.5 222,-316.5 222,-316.5 222,-345.5 222,-345.5 222,-351.5 216,-357.5 210,-357.5\"/>\n<text text-anchor=\"start\" x=\"139\" y=\"-342.3\" font-family=\"Helvetica,sans-Serif\" font-size=\"14.00\">gini = 0.11</text>\n<text text-anchor=\"start\" x=\"130\" y=\"-327.3\" font-family=\"Helvetica,sans-Serif\" font-size=\"14.00\">samples = 53</text>\n<text text-anchor=\"start\" x=\"128\" y=\"-312.3\" font-family=\"Helvetica,sans-Serif\" font-size=\"14.00\">value = [3, 50]</text>\n</g>\n<!-- 2&#45;&gt;4 -->\n<g id=\"edge4\" class=\"edge\">\n<title>2&#45;&gt;4</title>\n<path fill=\"none\" stroke=\"black\" d=\"M171,-400.88C171,-390.33 171,-378.6 171,-367.85\"/>\n<polygon fill=\"black\" stroke=\"black\" points=\"174.5,-367.52 171,-357.52 167.5,-367.52 174.5,-367.52\"/>\n</g>\n<!-- 6 -->\n<g id=\"node7\" class=\"node\">\n<title>6</title>\n<path fill=\"#cbe5f8\" stroke=\"black\" d=\"M338,-357.5C338,-357.5 252,-357.5 252,-357.5 246,-357.5 240,-351.5 240,-345.5 240,-345.5 240,-316.5 240,-316.5 240,-310.5 246,-304.5 252,-304.5 252,-304.5 338,-304.5 338,-304.5 344,-304.5 350,-310.5 350,-316.5 350,-316.5 350,-345.5 350,-345.5 350,-351.5 344,-357.5 338,-357.5\"/>\n<text text-anchor=\"start\" x=\"263\" y=\"-342.3\" font-family=\"Helvetica,sans-Serif\" font-size=\"14.00\">gini = 0.49</text>\n<text text-anchor=\"start\" x=\"254\" y=\"-327.3\" font-family=\"Helvetica,sans-Serif\" font-size=\"14.00\">samples = 59</text>\n<text text-anchor=\"start\" x=\"248\" y=\"-312.3\" font-family=\"Helvetica,sans-Serif\" font-size=\"14.00\">value = [25, 34]</text>\n</g>\n<!-- 5&#45;&gt;6 -->\n<g id=\"edge6\" class=\"edge\">\n<title>5&#45;&gt;6</title>\n<path fill=\"none\" stroke=\"black\" d=\"M336.87,-400.88C330.12,-389.78 322.58,-377.37 315.78,-366.18\"/>\n<polygon fill=\"black\" stroke=\"black\" points=\"318.7,-364.25 310.51,-357.52 312.72,-367.88 318.7,-364.25\"/>\n</g>\n<!-- 7 -->\n<g id=\"node8\" class=\"node\">\n<title>7</title>\n<path fill=\"#f6d5bd\" stroke=\"black\" d=\"M466,-357.5C466,-357.5 380,-357.5 380,-357.5 374,-357.5 368,-351.5 368,-345.5 368,-345.5 368,-316.5 368,-316.5 368,-310.5 374,-304.5 380,-304.5 380,-304.5 466,-304.5 466,-304.5 472,-304.5 478,-310.5 478,-316.5 478,-316.5 478,-345.5 478,-345.5 478,-351.5 472,-357.5 466,-357.5\"/>\n<text text-anchor=\"start\" x=\"391\" y=\"-342.3\" font-family=\"Helvetica,sans-Serif\" font-size=\"14.00\">gini = 0.48</text>\n<text text-anchor=\"start\" x=\"382\" y=\"-327.3\" font-family=\"Helvetica,sans-Serif\" font-size=\"14.00\">samples = 50</text>\n<text text-anchor=\"start\" x=\"376\" y=\"-312.3\" font-family=\"Helvetica,sans-Serif\" font-size=\"14.00\">value = [30, 20]</text>\n</g>\n<!-- 5&#45;&gt;7 -->\n<g id=\"edge7\" class=\"edge\">\n<title>5&#45;&gt;7</title>\n<path fill=\"none\" stroke=\"black\" d=\"M378.43,-400.88C385.62,-389.78 393.64,-377.37 400.88,-366.18\"/>\n<polygon fill=\"black\" stroke=\"black\" points=\"403.99,-367.82 406.49,-357.52 398.12,-364.01 403.99,-367.82\"/>\n</g>\n<!-- 9 -->\n<g id=\"node10\" class=\"node\">\n<title>9</title>\n<path fill=\"#e99659\" stroke=\"black\" d=\"M663.5,-469C663.5,-469 570.5,-469 570.5,-469 564.5,-469 558.5,-463 558.5,-457 558.5,-457 558.5,-413 558.5,-413 558.5,-407 564.5,-401 570.5,-401 570.5,-401 663.5,-401 663.5,-401 669.5,-401 675.5,-407 675.5,-413 675.5,-413 675.5,-457 675.5,-457 675.5,-463 669.5,-469 663.5,-469\"/>\n<text text-anchor=\"start\" x=\"584\" y=\"-453.8\" font-family=\"Helvetica,sans-Serif\" font-size=\"14.00\">Age ≤ 20.5</text>\n<text text-anchor=\"start\" x=\"585\" y=\"-438.8\" font-family=\"Helvetica,sans-Serif\" font-size=\"14.00\">gini = 0.24</text>\n<text text-anchor=\"start\" x=\"572\" y=\"-423.8\" font-family=\"Helvetica,sans-Serif\" font-size=\"14.00\">samples = 320</text>\n<text text-anchor=\"start\" x=\"566.5\" y=\"-408.8\" font-family=\"Helvetica,sans-Serif\" font-size=\"14.00\">value = [275, 45]</text>\n</g>\n<!-- 8&#45;&gt;9 -->\n<g id=\"edge9\" class=\"edge\">\n<title>8&#45;&gt;9</title>\n<path fill=\"none\" stroke=\"black\" d=\"M617,-504.88C617,-496.78 617,-487.98 617,-479.47\"/>\n<polygon fill=\"black\" stroke=\"black\" points=\"620.5,-479.3 617,-469.3 613.5,-479.3 620.5,-479.3\"/>\n</g>\n<!-- 18 -->\n<g id=\"node19\" class=\"node\">\n<title>18</title>\n<path fill=\"#f1bc96\" stroke=\"black\" d=\"M858,-469C858,-469 772,-469 772,-469 766,-469 760,-463 760,-457 760,-457 760,-413 760,-413 760,-407 766,-401 772,-401 772,-401 858,-401 858,-401 864,-401 870,-407 870,-413 870,-413 870,-457 870,-457 870,-463 864,-469 858,-469\"/>\n<text text-anchor=\"start\" x=\"780\" y=\"-453.8\" font-family=\"Helvetica,sans-Serif\" font-size=\"14.00\">SibSp ≤ 0.5</text>\n<text text-anchor=\"start\" x=\"783\" y=\"-438.8\" font-family=\"Helvetica,sans-Serif\" font-size=\"14.00\">gini = 0.43</text>\n<text text-anchor=\"start\" x=\"770\" y=\"-423.8\" font-family=\"Helvetica,sans-Serif\" font-size=\"14.00\">samples = 119</text>\n<text text-anchor=\"start\" x=\"768\" y=\"-408.8\" font-family=\"Helvetica,sans-Serif\" font-size=\"14.00\">value = [81, 38]</text>\n</g>\n<!-- 8&#45;&gt;18 -->\n<g id=\"edge18\" class=\"edge\">\n<title>8&#45;&gt;18</title>\n<path fill=\"none\" stroke=\"black\" d=\"M675.6,-507.81C699.26,-495.62 726.64,-481.52 750.84,-469.05\"/>\n<polygon fill=\"black\" stroke=\"black\" points=\"752.65,-472.06 759.94,-464.36 749.45,-465.83 752.65,-472.06\"/>\n</g>\n<!-- 10 -->\n<g id=\"node11\" class=\"node\">\n<title>10</title>\n<path fill=\"#f1b992\" stroke=\"black\" d=\"M594,-357.5C594,-357.5 508,-357.5 508,-357.5 502,-357.5 496,-351.5 496,-345.5 496,-345.5 496,-316.5 496,-316.5 496,-310.5 502,-304.5 508,-304.5 508,-304.5 594,-304.5 594,-304.5 600,-304.5 606,-310.5 606,-316.5 606,-316.5 606,-345.5 606,-345.5 606,-351.5 600,-357.5 594,-357.5\"/>\n<text text-anchor=\"start\" x=\"519\" y=\"-342.3\" font-family=\"Helvetica,sans-Serif\" font-size=\"14.00\">gini = 0.43</text>\n<text text-anchor=\"start\" x=\"510\" y=\"-327.3\" font-family=\"Helvetica,sans-Serif\" font-size=\"14.00\">samples = 55</text>\n<text text-anchor=\"start\" x=\"504\" y=\"-312.3\" font-family=\"Helvetica,sans-Serif\" font-size=\"14.00\">value = [38, 17]</text>\n</g>\n<!-- 9&#45;&gt;10 -->\n<g id=\"edge10\" class=\"edge\">\n<title>9&#45;&gt;10</title>\n<path fill=\"none\" stroke=\"black\" d=\"M595.57,-400.88C588.38,-389.78 580.36,-377.37 573.12,-366.18\"/>\n<polygon fill=\"black\" stroke=\"black\" points=\"575.88,-364.01 567.51,-357.52 570.01,-367.82 575.88,-364.01\"/>\n</g>\n<!-- 11 -->\n<g id=\"node12\" class=\"node\">\n<title>11</title>\n<path fill=\"#e89050\" stroke=\"black\" d=\"M729.5,-365C729.5,-365 636.5,-365 636.5,-365 630.5,-365 624.5,-359 624.5,-353 624.5,-353 624.5,-309 624.5,-309 624.5,-303 630.5,-297 636.5,-297 636.5,-297 729.5,-297 729.5,-297 735.5,-297 741.5,-303 741.5,-309 741.5,-309 741.5,-353 741.5,-353 741.5,-359 735.5,-365 729.5,-365\"/>\n<text text-anchor=\"start\" x=\"650\" y=\"-349.8\" font-family=\"Helvetica,sans-Serif\" font-size=\"14.00\">Age ≤ 32.5</text>\n<text text-anchor=\"start\" x=\"651\" y=\"-334.8\" font-family=\"Helvetica,sans-Serif\" font-size=\"14.00\">gini = 0.19</text>\n<text text-anchor=\"start\" x=\"638\" y=\"-319.8\" font-family=\"Helvetica,sans-Serif\" font-size=\"14.00\">samples = 265</text>\n<text text-anchor=\"start\" x=\"632.5\" y=\"-304.8\" font-family=\"Helvetica,sans-Serif\" font-size=\"14.00\">value = [237, 28]</text>\n</g>\n<!-- 9&#45;&gt;11 -->\n<g id=\"edge11\" class=\"edge\">\n<title>9&#45;&gt;11</title>\n<path fill=\"none\" stroke=\"black\" d=\"M638.43,-400.88C644.02,-392.24 650.12,-382.82 655.96,-373.79\"/>\n<polygon fill=\"black\" stroke=\"black\" points=\"658.96,-375.6 661.45,-365.3 653.08,-371.79 658.96,-375.6\"/>\n</g>\n<!-- 12 -->\n<g id=\"node13\" class=\"node\">\n<title>12</title>\n<path fill=\"#e99356\" stroke=\"black\" d=\"M665.5,-261C665.5,-261 572.5,-261 572.5,-261 566.5,-261 560.5,-255 560.5,-249 560.5,-249 560.5,-205 560.5,-205 560.5,-199 566.5,-193 572.5,-193 572.5,-193 665.5,-193 665.5,-193 671.5,-193 677.5,-199 677.5,-205 677.5,-205 677.5,-249 677.5,-249 677.5,-255 671.5,-261 665.5,-261\"/>\n<text text-anchor=\"start\" x=\"582.5\" y=\"-245.8\" font-family=\"Helvetica,sans-Serif\" font-size=\"14.00\">Age ≤ 24.75</text>\n<text text-anchor=\"start\" x=\"587\" y=\"-230.8\" font-family=\"Helvetica,sans-Serif\" font-size=\"14.00\">gini = 0.22</text>\n<text text-anchor=\"start\" x=\"574\" y=\"-215.8\" font-family=\"Helvetica,sans-Serif\" font-size=\"14.00\">samples = 181</text>\n<text text-anchor=\"start\" x=\"568.5\" y=\"-200.8\" font-family=\"Helvetica,sans-Serif\" font-size=\"14.00\">value = [158, 23]</text>\n</g>\n<!-- 11&#45;&gt;12 -->\n<g id=\"edge12\" class=\"edge\">\n<title>11&#45;&gt;12</title>\n<path fill=\"none\" stroke=\"black\" d=\"M662.22,-296.88C656.8,-288.24 650.89,-278.82 645.22,-269.79\"/>\n<polygon fill=\"black\" stroke=\"black\" points=\"648.17,-267.91 639.89,-261.3 642.24,-271.63 648.17,-267.91\"/>\n</g>\n<!-- 17 -->\n<g id=\"node18\" class=\"node\">\n<title>17</title>\n<path fill=\"#e78946\" stroke=\"black\" d=\"M786,-253.5C786,-253.5 708,-253.5 708,-253.5 702,-253.5 696,-247.5 696,-241.5 696,-241.5 696,-212.5 696,-212.5 696,-206.5 702,-200.5 708,-200.5 708,-200.5 786,-200.5 786,-200.5 792,-200.5 798,-206.5 798,-212.5 798,-212.5 798,-241.5 798,-241.5 798,-247.5 792,-253.5 786,-253.5\"/>\n<text text-anchor=\"start\" x=\"715\" y=\"-238.3\" font-family=\"Helvetica,sans-Serif\" font-size=\"14.00\">gini = 0.11</text>\n<text text-anchor=\"start\" x=\"706\" y=\"-223.3\" font-family=\"Helvetica,sans-Serif\" font-size=\"14.00\">samples = 84</text>\n<text text-anchor=\"start\" x=\"704\" y=\"-208.3\" font-family=\"Helvetica,sans-Serif\" font-size=\"14.00\">value = [79, 5]</text>\n</g>\n<!-- 11&#45;&gt;17 -->\n<g id=\"edge17\" class=\"edge\">\n<title>11&#45;&gt;17</title>\n<path fill=\"none\" stroke=\"black\" d=\"M703.78,-296.88C710.75,-285.78 718.53,-273.37 725.55,-262.18\"/>\n<polygon fill=\"black\" stroke=\"black\" points=\"728.64,-263.85 730.99,-253.52 722.71,-260.13 728.64,-263.85\"/>\n</g>\n<!-- 13 -->\n<g id=\"node14\" class=\"node\">\n<title>13</title>\n<path fill=\"#e88d4c\" stroke=\"black\" d=\"M599.5,-157C599.5,-157 506.5,-157 506.5,-157 500.5,-157 494.5,-151 494.5,-145 494.5,-145 494.5,-101 494.5,-101 494.5,-95 500.5,-89 506.5,-89 506.5,-89 599.5,-89 599.5,-89 605.5,-89 611.5,-95 611.5,-101 611.5,-101 611.5,-145 611.5,-145 611.5,-151 605.5,-157 599.5,-157\"/>\n<text text-anchor=\"start\" x=\"507\" y=\"-141.8\" font-family=\"Helvetica,sans-Serif\" font-size=\"14.00\">LogFare ≤ 2.18</text>\n<text text-anchor=\"start\" x=\"521\" y=\"-126.8\" font-family=\"Helvetica,sans-Serif\" font-size=\"14.00\">gini = 0.16</text>\n<text text-anchor=\"start\" x=\"508\" y=\"-111.8\" font-family=\"Helvetica,sans-Serif\" font-size=\"14.00\">samples = 114</text>\n<text text-anchor=\"start\" x=\"502.5\" y=\"-96.8\" font-family=\"Helvetica,sans-Serif\" font-size=\"14.00\">value = [104, 10]</text>\n</g>\n<!-- 12&#45;&gt;13 -->\n<g id=\"edge13\" class=\"edge\">\n<title>12&#45;&gt;13</title>\n<path fill=\"none\" stroke=\"black\" d=\"M597.57,-192.88C591.98,-184.24 585.88,-174.82 580.04,-165.79\"/>\n<polygon fill=\"black\" stroke=\"black\" points=\"582.92,-163.79 574.55,-157.3 577.04,-167.6 582.92,-163.79\"/>\n</g>\n<!-- 16 -->\n<g id=\"node17\" class=\"node\">\n<title>16</title>\n<path fill=\"#eb9f69\" stroke=\"black\" d=\"M728,-149.5C728,-149.5 642,-149.5 642,-149.5 636,-149.5 630,-143.5 630,-137.5 630,-137.5 630,-108.5 630,-108.5 630,-102.5 636,-96.5 642,-96.5 642,-96.5 728,-96.5 728,-96.5 734,-96.5 740,-102.5 740,-108.5 740,-108.5 740,-137.5 740,-137.5 740,-143.5 734,-149.5 728,-149.5\"/>\n<text text-anchor=\"start\" x=\"653\" y=\"-134.3\" font-family=\"Helvetica,sans-Serif\" font-size=\"14.00\">gini = 0.31</text>\n<text text-anchor=\"start\" x=\"644\" y=\"-119.3\" font-family=\"Helvetica,sans-Serif\" font-size=\"14.00\">samples = 67</text>\n<text text-anchor=\"start\" x=\"638\" y=\"-104.3\" font-family=\"Helvetica,sans-Serif\" font-size=\"14.00\">value = [54, 13]</text>\n</g>\n<!-- 12&#45;&gt;16 -->\n<g id=\"edge16\" class=\"edge\">\n<title>12&#45;&gt;16</title>\n<path fill=\"none\" stroke=\"black\" d=\"M640.43,-192.88C647.62,-181.78 655.64,-169.37 662.88,-158.18\"/>\n<polygon fill=\"black\" stroke=\"black\" points=\"665.99,-159.82 668.49,-149.52 660.12,-156.01 665.99,-159.82\"/>\n</g>\n<!-- 14 -->\n<g id=\"node15\" class=\"node\">\n<title>14</title>\n<path fill=\"#e99254\" stroke=\"black\" d=\"M532,-53C532,-53 454,-53 454,-53 448,-53 442,-47 442,-41 442,-41 442,-12 442,-12 442,-6 448,0 454,0 454,0 532,0 532,0 538,0 544,-6 544,-12 544,-12 544,-41 544,-41 544,-47 538,-53 532,-53\"/>\n<text text-anchor=\"start\" x=\"461\" y=\"-37.8\" font-family=\"Helvetica,sans-Serif\" font-size=\"14.00\">gini = 0.21</text>\n<text text-anchor=\"start\" x=\"452\" y=\"-22.8\" font-family=\"Helvetica,sans-Serif\" font-size=\"14.00\">samples = 50</text>\n<text text-anchor=\"start\" x=\"450\" y=\"-7.8\" font-family=\"Helvetica,sans-Serif\" font-size=\"14.00\">value = [44, 6]</text>\n</g>\n<!-- 13&#45;&gt;14 -->\n<g id=\"edge14\" class=\"edge\">\n<title>13&#45;&gt;14</title>\n<path fill=\"none\" stroke=\"black\" d=\"M532.01,-88.95C526.44,-80.17 520.41,-70.66 514.79,-61.82\"/>\n<polygon fill=\"black\" stroke=\"black\" points=\"517.66,-59.8 509.34,-53.24 511.75,-63.55 517.66,-59.8\"/>\n</g>\n<!-- 15 -->\n<g id=\"node16\" class=\"node\">\n<title>15</title>\n<path fill=\"#e78946\" stroke=\"black\" d=\"M652,-53C652,-53 574,-53 574,-53 568,-53 562,-47 562,-41 562,-41 562,-12 562,-12 562,-6 568,0 574,0 574,0 652,0 652,0 658,0 664,-6 664,-12 664,-12 664,-41 664,-41 664,-47 658,-53 652,-53\"/>\n<text text-anchor=\"start\" x=\"581\" y=\"-37.8\" font-family=\"Helvetica,sans-Serif\" font-size=\"14.00\">gini = 0.12</text>\n<text text-anchor=\"start\" x=\"572\" y=\"-22.8\" font-family=\"Helvetica,sans-Serif\" font-size=\"14.00\">samples = 64</text>\n<text text-anchor=\"start\" x=\"570\" y=\"-7.8\" font-family=\"Helvetica,sans-Serif\" font-size=\"14.00\">value = [60, 4]</text>\n</g>\n<!-- 13&#45;&gt;15 -->\n<g id=\"edge15\" class=\"edge\">\n<title>13&#45;&gt;15</title>\n<path fill=\"none\" stroke=\"black\" d=\"M573.99,-88.95C579.56,-80.17 585.59,-70.66 591.21,-61.82\"/>\n<polygon fill=\"black\" stroke=\"black\" points=\"594.25,-63.55 596.66,-53.24 588.34,-59.8 594.25,-63.55\"/>\n</g>\n<!-- 19 -->\n<g id=\"node20\" class=\"node\">\n<title>19</title>\n<path fill=\"#f6d5bd\" stroke=\"black\" d=\"M858,-357.5C858,-357.5 772,-357.5 772,-357.5 766,-357.5 760,-351.5 760,-345.5 760,-345.5 760,-316.5 760,-316.5 760,-310.5 766,-304.5 772,-304.5 772,-304.5 858,-304.5 858,-304.5 864,-304.5 870,-310.5 870,-316.5 870,-316.5 870,-345.5 870,-345.5 870,-351.5 864,-357.5 858,-357.5\"/>\n<text text-anchor=\"start\" x=\"783\" y=\"-342.3\" font-family=\"Helvetica,sans-Serif\" font-size=\"14.00\">gini = 0.48</text>\n<text text-anchor=\"start\" x=\"774\" y=\"-327.3\" font-family=\"Helvetica,sans-Serif\" font-size=\"14.00\">samples = 60</text>\n<text text-anchor=\"start\" x=\"768\" y=\"-312.3\" font-family=\"Helvetica,sans-Serif\" font-size=\"14.00\">value = [36, 24]</text>\n</g>\n<!-- 18&#45;&gt;19 -->\n<g id=\"edge19\" class=\"edge\">\n<title>18&#45;&gt;19</title>\n<path fill=\"none\" stroke=\"black\" d=\"M815,-400.88C815,-390.33 815,-378.6 815,-367.85\"/>\n<polygon fill=\"black\" stroke=\"black\" points=\"818.5,-367.52 815,-357.52 811.5,-367.52 818.5,-367.52\"/>\n</g>\n<!-- 20 -->\n<g id=\"node21\" class=\"node\">\n<title>20</title>\n<path fill=\"#eda877\" stroke=\"black\" d=\"M986,-357.5C986,-357.5 900,-357.5 900,-357.5 894,-357.5 888,-351.5 888,-345.5 888,-345.5 888,-316.5 888,-316.5 888,-310.5 894,-304.5 900,-304.5 900,-304.5 986,-304.5 986,-304.5 992,-304.5 998,-310.5 998,-316.5 998,-316.5 998,-345.5 998,-345.5 998,-351.5 992,-357.5 986,-357.5\"/>\n<text text-anchor=\"start\" x=\"911\" y=\"-342.3\" font-family=\"Helvetica,sans-Serif\" font-size=\"14.00\">gini = 0.36</text>\n<text text-anchor=\"start\" x=\"902\" y=\"-327.3\" font-family=\"Helvetica,sans-Serif\" font-size=\"14.00\">samples = 59</text>\n<text text-anchor=\"start\" x=\"896\" y=\"-312.3\" font-family=\"Helvetica,sans-Serif\" font-size=\"14.00\">value = [45, 14]</text>\n</g>\n<!-- 18&#45;&gt;20 -->\n<g id=\"edge20\" class=\"edge\">\n<title>18&#45;&gt;20</title>\n<path fill=\"none\" stroke=\"black\" d=\"M856.56,-400.88C871.46,-389.01 888.23,-375.65 903,-363.88\"/>\n<polygon fill=\"black\" stroke=\"black\" points=\"905.34,-366.49 910.97,-357.52 900.97,-361.01 905.34,-366.49\"/>\n</g>\n</g>\n</svg>\n"
          },
          "metadata": {},
          "execution_count": 138
        }
      ]
    },
    {
      "cell_type": "code",
      "source": [
        "mean_absolute_error(val_y, m.predict(val_xs))"
      ],
      "metadata": {
        "colab": {
          "base_uri": "https://localhost:8080/"
        },
        "id": "rhirnrjnafWg",
        "outputId": "7f2243c5-ee1a-48ec-dc5b-b95cd190f114"
      },
      "execution_count": 139,
      "outputs": [
        {
          "output_type": "execute_result",
          "data": {
            "text/plain": [
              "0.18385650224215247"
            ]
          },
          "metadata": {},
          "execution_count": 139
        }
      ]
    },
    {
      "cell_type": "markdown",
      "source": [
        "This model seems better just based on score."
      ],
      "metadata": {
        "id": "zcEOo7-jbivs"
      }
    },
    {
      "cell_type": "markdown",
      "source": [
        "# The random forest"
      ],
      "metadata": {
        "id": "wiEe_bKMiMQh"
      }
    },
    {
      "cell_type": "markdown",
      "source": [
        "We can't make the decision tree much bigger than the example above, since some leaf nodes already have only 50 rows in them. That's not a lot of data to make a prediction.\n",
        "\n",
        "So how could we use bigger trees? One big insight came from Leo Breiman: what if we create lots of bigger trees, and take the average of their predictions? Taking the average prediction of a bunch of models in this way is known as bagging.\n",
        "\n",
        "The idea is that we want each model's predictions in the averaged ensemble to be uncorrelated with each other model. That way, if we average the predictions, the average will be equal to the true target value -- that's because the average of lots of uncorrelated random errors is zero. That's quite an amazing insight!\n",
        "\n",
        "One way we can create a bunch of uncorrelated models is to train each of them on a different random subset of the data. Here's how we can create a tree on a random subset of the data:   -- Jeremy Howard."
      ],
      "metadata": {
        "id": "iy_S4dY7l18R"
      }
    },
    {
      "cell_type": "code",
      "source": [
        "#a function to create dicision tree\n",
        "def get_tree(prop=0.75): #75% of the data each time\n",
        "  n = len(trn_y)\n",
        "  idxs = random.choice(n, int(n*prop))\n",
        "  return DecisionTreeClassifier(min_samples_leaf=5).fit(trn_xs.iloc[idxs], trn_y.iloc[idxs])"
      ],
      "metadata": {
        "id": "gFEq2FrwbmLE"
      },
      "execution_count": 145,
      "outputs": []
    },
    {
      "cell_type": "markdown",
      "source": [
        "We can create as many trees as we want."
      ],
      "metadata": {
        "id": "meRLltuT3twi"
      }
    },
    {
      "cell_type": "code",
      "source": [
        "trees = [get_tree() for t in range(100)]"
      ],
      "metadata": {
        "id": "eBUsyEZSbmSQ"
      },
      "execution_count": 146,
      "outputs": []
    },
    {
      "cell_type": "markdown",
      "source": [
        "The prediction will be the ave of these trees' predictions."
      ],
      "metadata": {
        "id": "Uw7EvymK5Tsa"
      }
    },
    {
      "cell_type": "code",
      "source": [
        "all_probs = [t.predict(val_xs) for t in trees]\n",
        "avg_probs = np.stack(all_probs).mean(0)\n",
        "\n",
        "mean_absolute_error(val_y, avg_probs)"
      ],
      "metadata": {
        "colab": {
          "base_uri": "https://localhost:8080/"
        },
        "id": "mtH0kqppbmYF",
        "outputId": "3db1df4c-e28d-4b04-ed4f-4a461fa09fdd"
      },
      "execution_count": 148,
      "outputs": [
        {
          "output_type": "execute_result",
          "data": {
            "text/plain": [
              "0.2267713004484305"
            ]
          },
          "metadata": {},
          "execution_count": 148
        }
      ]
    },
    {
      "cell_type": "markdown",
      "source": [
        "Repeat the above process with a random forest."
      ],
      "metadata": {
        "id": "pX4ipDni-r4O"
      }
    },
    {
      "cell_type": "code",
      "source": [
        "from sklearn.ensemble import RandomForestClassifier\n",
        "\n",
        "rf = RandomForestClassifier(100, min_samples_leaf=5)\n",
        "rf.fit(trn_xs, trn_y.values.ravel()) #avoid the warning message\n",
        "mean_absolute_error(val_y, rf.predict(val_xs))"
      ],
      "metadata": {
        "colab": {
          "base_uri": "https://localhost:8080/"
        },
        "id": "JtGNdNxR6Zkw",
        "outputId": "a3a16479-6cd7-4e06-c98c-c59ad1d5b1c1"
      },
      "execution_count": 153,
      "outputs": [
        {
          "output_type": "execute_result",
          "data": {
            "text/plain": [
              "0.18385650224215247"
            ]
          },
          "metadata": {},
          "execution_count": 153
        }
      ]
    },
    {
      "cell_type": "markdown",
      "source": [
        "One particularly nice feature of random forests is they can tell us which independent variables were the most important in the model, using feature-importances_:"
      ],
      "metadata": {
        "id": "FvhVmipf_ycM"
      }
    },
    {
      "cell_type": "code",
      "source": [
        "pd.DataFrame(dict(cols=trn_xs.columns, imp=m.feature_importances_)).plot('cols','imp','barh')"
      ],
      "metadata": {
        "colab": {
          "base_uri": "https://localhost:8080/",
          "height": 283
        },
        "id": "qX-lVQI1_l6v",
        "outputId": "909f7189-5443-4624-e456-1a1ef6337293"
      },
      "execution_count": 154,
      "outputs": [
        {
          "output_type": "execute_result",
          "data": {
            "text/plain": [
              "<matplotlib.axes._subplots.AxesSubplot at 0x7f9a5c210fa0>"
            ]
          },
          "metadata": {},
          "execution_count": 154
        },
        {
          "output_type": "display_data",
          "data": {
            "text/plain": [
              "<Figure size 432x288 with 1 Axes>"
            ],
            "image/png": "[encoded data removed]"
          },
          "metadata": {
            "needs_background": "light"
          }
        }
      ]
    },
    {
      "cell_type": "code",
      "source": [],
      "metadata": {
        "colab": {
          "base_uri": "https://localhost:8080/",
          "height": 424
        },
        "id": "mg7Q6oJ0_mMj",
        "outputId": "5ded731e-12a0-4295-9377-ab16f8378678"
      },
      "execution_count": 155,
      "outputs": [
        {
          "output_type": "execute_result",
          "data": {
            "text/plain": [
              "     Sex  Embarked    Age  SibSp  Parch   LogFare  Pclass\n",
              "298    1         2  24.00      0      0  3.449988       1\n",
              "884    1         2  25.00      0      0  2.085672       3\n",
              "247    0         2  24.00      0      2  2.740840       2\n",
              "478    1         2  22.00      0      0  2.142510       3\n",
              "305    1         2   0.92      1      2  5.027492       1\n",
              "..   ...       ...    ...    ...    ...       ...     ...\n",
              "106    0         2  21.00      0      0  2.157559       3\n",
              "270    1         2  24.00      0      0  3.465736       1\n",
              "860    1         2  41.00      2      0  2.715244       3\n",
              "435    0         2  14.00      1      2  4.795791       1\n",
              "102    1         2  21.00      0      1  4.360388       1\n",
              "\n",
              "[668 rows x 7 columns]"
            ],
            "text/html": [
              "\n",
              "  <div id=\"df-d1b0ca63-fb73-4b88-b6d5-c2835523cd5d\">\n",
              "    <div class=\"colab-df-container\">\n",
              "      <div>\n",
              "<style scoped>\n",
              "    .dataframe tbody tr th:only-of-type {\n",
              "        vertical-align: middle;\n",
              "    }\n",
              "\n",
              "    .dataframe tbody tr th {\n",
              "        vertical-align: top;\n",
              "    }\n",
              "\n",
              "    .dataframe thead th {\n",
              "        text-align: right;\n",
              "    }\n",
              "</style>\n",
              "<table border=\"1\" class=\"dataframe\">\n",
              "  <thead>\n",
              "    <tr style=\"text-align: right;\">\n",
              "      <th></th>\n",
              "      <th>Sex</th>\n",
              "      <th>Embarked</th>\n",
              "      <th>Age</th>\n",
              "      <th>SibSp</th>\n",
              "      <th>Parch</th>\n",
              "      <th>LogFare</th>\n",
              "      <th>Pclass</th>\n",
              "    </tr>\n",
              "  </thead>\n",
              "  <tbody>\n",
              "    <tr>\n",
              "      <th>298</th>\n",
              "      <td>1</td>\n",
              "      <td>2</td>\n",
              "      <td>24.00</td>\n",
              "      <td>0</td>\n",
              "      <td>0</td>\n",
              "      <td>3.449988</td>\n",
              "      <td>1</td>\n",
              "    </tr>\n",
              "    <tr>\n",
              "      <th>884</th>\n",
              "      <td>1</td>\n",
              "      <td>2</td>\n",
              "      <td>25.00</td>\n",
              "      <td>0</td>\n",
              "      <td>0</td>\n",
              "      <td>2.085672</td>\n",
              "      <td>3</td>\n",
              "    </tr>\n",
              "    <tr>\n",
              "      <th>247</th>\n",
              "      <td>0</td>\n",
              "      <td>2</td>\n",
              "      <td>24.00</td>\n",
              "      <td>0</td>\n",
              "      <td>2</td>\n",
              "      <td>2.740840</td>\n",
              "      <td>2</td>\n",
              "    </tr>\n",
              "    <tr>\n",
              "      <th>478</th>\n",
              "      <td>1</td>\n",
              "      <td>2</td>\n",
              "      <td>22.00</td>\n",
              "      <td>0</td>\n",
              "      <td>0</td>\n",
              "      <td>2.142510</td>\n",
              "      <td>3</td>\n",
              "    </tr>\n",
              "    <tr>\n",
              "      <th>305</th>\n",
              "      <td>1</td>\n",
              "      <td>2</td>\n",
              "      <td>0.92</td>\n",
              "      <td>1</td>\n",
              "      <td>2</td>\n",
              "      <td>5.027492</td>\n",
              "      <td>1</td>\n",
              "    </tr>\n",
              "    <tr>\n",
              "      <th>...</th>\n",
              "      <td>...</td>\n",
              "      <td>...</td>\n",
              "      <td>...</td>\n",
              "      <td>...</td>\n",
              "      <td>...</td>\n",
              "      <td>...</td>\n",
              "      <td>...</td>\n",
              "    </tr>\n",
              "    <tr>\n",
              "      <th>106</th>\n",
              "      <td>0</td>\n",
              "      <td>2</td>\n",
              "      <td>21.00</td>\n",
              "      <td>0</td>\n",
              "      <td>0</td>\n",
              "      <td>2.157559</td>\n",
              "      <td>3</td>\n",
              "    </tr>\n",
              "    <tr>\n",
              "      <th>270</th>\n",
              "      <td>1</td>\n",
              "      <td>2</td>\n",
              "      <td>24.00</td>\n",
              "      <td>0</td>\n",
              "      <td>0</td>\n",
              "      <td>3.465736</td>\n",
              "      <td>1</td>\n",
              "    </tr>\n",
              "    <tr>\n",
              "      <th>860</th>\n",
              "      <td>1</td>\n",
              "      <td>2</td>\n",
              "      <td>41.00</td>\n",
              "      <td>2</td>\n",
              "      <td>0</td>\n",
              "      <td>2.715244</td>\n",
              "      <td>3</td>\n",
              "    </tr>\n",
              "    <tr>\n",
              "      <th>435</th>\n",
              "      <td>0</td>\n",
              "      <td>2</td>\n",
              "      <td>14.00</td>\n",
              "      <td>1</td>\n",
              "      <td>2</td>\n",
              "      <td>4.795791</td>\n",
              "      <td>1</td>\n",
              "    </tr>\n",
              "    <tr>\n",
              "      <th>102</th>\n",
              "      <td>1</td>\n",
              "      <td>2</td>\n",
              "      <td>21.00</td>\n",
              "      <td>0</td>\n",
              "      <td>1</td>\n",
              "      <td>4.360388</td>\n",
              "      <td>1</td>\n",
              "    </tr>\n",
              "  </tbody>\n",
              "</table>\n",
              "<p>668 rows × 7 columns</p>\n",
              "</div>\n",
              "      <button class=\"colab-df-convert\" onclick=\"convertToInteractive('df-d1b0ca63-fb73-4b88-b6d5-c2835523cd5d')\"\n",
              "              title=\"Convert this dataframe to an interactive table.\"\n",
              "              style=\"display:none;\">\n",
              "        \n",
              "  <svg xmlns=\"http://www.w3.org/2000/svg\" height=\"24px\"viewBox=\"0 0 24 24\"\n",
              "       width=\"24px\">\n",
              "    <path d=\"M0 0h24v24H0V0z\" fill=\"none\"/>\n",
              "    <path d=\"M18.56 5.44l.94 2.06.94-2.06 2.06-.94-2.06-.94-.94-2.06-.94 2.06-2.06.94zm-11 1L8.5 8.5l.94-2.06 2.06-.94-2.06-.94L8.5 2.5l-.94 2.06-2.06.94zm10 10l.94 2.06.94-2.06 2.06-.94-2.06-.94-.94-2.06-.94 2.06-2.06.94z\"/><path d=\"M17.41 7.96l-1.37-1.37c-.4-.4-.92-.59-1.43-.59-.52 0-1.04.2-1.43.59L10.3 9.45l-7.72 7.72c-.78.78-.78 2.05 0 2.83L4 21.41c.39.39.9.59 1.41.59.51 0 1.02-.2 1.41-.59l7.78-7.78 2.81-2.81c.8-.78.8-2.07 0-2.86zM5.41 20L4 18.59l7.72-7.72 1.47 1.35L5.41 20z\"/>\n",
              "  </svg>\n",
              "      </button>\n",
              "      \n",
              "  <style>\n",
              "    .colab-df-container {\n",
              "      display:flex;\n",
              "      flex-wrap:wrap;\n",
              "      gap: 12px;\n",
              "    }\n",
              "\n",
              "    .colab-df-convert {\n",
              "      background-color: #E8F0FE;\n",
              "      border: none;\n",
              "      border-radius: 50%;\n",
              "      cursor: pointer;\n",
              "      display: none;\n",
              "      fill: #1967D2;\n",
              "      height: 32px;\n",
              "      padding: 0 0 0 0;\n",
              "      width: 32px;\n",
              "    }\n",
              "\n",
              "    .colab-df-convert:hover {\n",
              "      background-color: #E2EBFA;\n",
              "      box-shadow: 0px 1px 2px rgba(60, 64, 67, 0.3), 0px 1px 3px 1px rgba(60, 64, 67, 0.15);\n",
              "      fill: #174EA6;\n",
              "    }\n",
              "\n",
              "    [theme=dark] .colab-df-convert {\n",
              "      background-color: #3B4455;\n",
              "      fill: #D2E3FC;\n",
              "    }\n",
              "\n",
              "    [theme=dark] .colab-df-convert:hover {\n",
              "      background-color: #434B5C;\n",
              "      box-shadow: 0px 1px 3px 1px rgba(0, 0, 0, 0.15);\n",
              "      filter: drop-shadow(0px 1px 2px rgba(0, 0, 0, 0.3));\n",
              "      fill: #FFFFFF;\n",
              "    }\n",
              "  </style>\n",
              "\n",
              "      <script>\n",
              "        const buttonEl =\n",
              "          document.querySelector('#df-d1b0ca63-fb73-4b88-b6d5-c2835523cd5d button.colab-df-convert');\n",
              "        buttonEl.style.display =\n",
              "          google.colab.kernel.accessAllowed ? 'block' : 'none';\n",
              "\n",
              "        async function convertToInteractive(key) {\n",
              "          const element = document.querySelector('#df-d1b0ca63-fb73-4b88-b6d5-c2835523cd5d');\n",
              "          const dataTable =\n",
              "            await google.colab.kernel.invokeFunction('convertToInteractive',\n",
              "                                                     [key], {});\n",
              "          if (!dataTable) return;\n",
              "\n",
              "          const docLinkHtml = 'Like what you see? Visit the ' +\n",
              "            '<a target=\"_blank\" href=https://colab.research.google.com/notebooks/data_table.ipynb>data table notebook</a>'\n",
              "            + ' to learn more about interactive tables.';\n",
              "          element.innerHTML = '';\n",
              "          dataTable['output_type'] = 'display_data';\n",
              "          await google.colab.output.renderOutput(dataTable, element);\n",
              "          const docLink = document.createElement('div');\n",
              "          docLink.innerHTML = docLinkHtml;\n",
              "          element.appendChild(docLink);\n",
              "        }\n",
              "      </script>\n",
              "    </div>\n",
              "  </div>\n",
              "  "
            ]
          },
          "metadata": {},
          "execution_count": 155
        }
      ]
    }
  ]
}